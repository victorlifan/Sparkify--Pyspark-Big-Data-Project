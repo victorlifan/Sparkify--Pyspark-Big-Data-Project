{
 "cells": [
  {
   "cell_type": "markdown",
   "metadata": {},
   "source": [
    "# Project overview\n",
    "Imagine you are working on the data team for a popular digital music service similar to Spotify or Pandora. Many of users stream their favorite songs to your service every day either using the free tier that place advertisements between the songs or using the premium subscription model, where they stream music as free but pay a monthly flat rate.\n",
    "\n",
    "Users can upgrade, downgrade, or cancel their service at any time. So, it's crucial to make sure your users love the service. Every time a user interacts with the service while they're playing songs, logging out, like in a song with a thumbs up, hearing an ad, or downgrading their service, it generates data. All this data contains the key insights for keeping your users happy and helping your business thrive. (The full dataset is 12GB)\n",
    "\n",
    "It's your job on the data team to predict which users are at risk to churn either downgrading from premium to free tier or cancelling their service altogether. If you can accurately identify these users before they leave, your business can offer them discounts and incentives, potentially saving your business millions in revenue.\n",
    "\n",
    "To tackle this project, you will need to load, explorer, and clean this dataset with Spark. Based on your explanation, you will create features and build models with Spark to predict which users were churn from your digital music service.\n",
    "\n",
    "\n",
    "Predicting churn rates is a challenging and common problem that data scientists and analysts regularly encounter in any customer-facing business. Additionally, the ability to efficiently manipulate large datasets with Spark is one of the highest-demand skills in the field of data.\n",
    "\n",
    "# Problem Statement\n",
    "* Load large datasets into Spark and manipulate them using Spark SQL and Spark Dataframes\n",
    "* Gain insight of data set for better understanding (Data Exploration, Data Visualization etc.)\n",
    "* Data preprocessing\n",
    "* Use the machine learning APIs within Spark ML to build and tune models\n",
    "* Predicting which users are at risk to churn and validate predict result\n",
    "\n",
    "# Metrics\n",
    "Some of the metrics we might use:\n",
    "* Accuracy, recall, prescision, fmeasure(f1 socre)\n",
    "* Coefficient\n",
    "\n",
    "# Load and Clean Dataset\n",
    "In this workspace, the mini-dataset file is `mini-sparkify-event-data.json`. Load and clean the dataset, checking for invalid or missing data - for example, records without userids or sessionids. "
   ]
  },
  {
   "cell_type": "code",
   "execution_count": 1,
   "metadata": {},
   "outputs": [],
   "source": [
    "# import libraries\n",
    "# refer 'https://changhsinlee.com/install-pyspark-windows-jupyter/#comment-4302741820'\n",
    "import findspark\n",
    "findspark.init()\n",
    "\n",
    "import time\n",
    "import numpy as np\n",
    "import zipfile\n",
    "import pandas as pd\n",
    "import seaborn as sns\n",
    "from datetime import datetime\n",
    "from sklearn.base import clone\n",
    "from pyspark.ml import Pipeline\n",
    "from pyspark.ml.evaluation import *\n",
    "import matplotlib.pyplot as plt\n",
    "from pyspark.ml.feature import *\n",
    "from pyspark.sql.functions import *\n",
    "from pyspark.sql.types import *\n",
    "from pyspark.sql import SparkSession\n",
    "from pyspark import SparkContext\n",
    "from pyspark.ml.tuning import CrossValidator, ParamGridBuilder\n",
    "from pyspark.ml.classification import GBTClassifier, RandomForestClassifier,LinearSVC\n",
    "\n",
    "plt.rcParams['figure.figsize']=(15,5)"
   ]
  },
  {
   "cell_type": "code",
   "execution_count": 2,
   "metadata": {},
   "outputs": [],
   "source": [
    "# upzip files\n",
    "with zipfile.ZipFile(\"data_zip/mini_sparkify_event_data.zip\",'r') as zf:\n",
    "    zf.extractall(\"../Sparkify--Pyspark-Big-Data-Project\")"
   ]
  },
  {
   "cell_type": "code",
   "execution_count": 196,
   "metadata": {},
   "outputs": [
    {
     "data": {
      "text/plain": [
       "Row(artist='Martha Tilston', auth='Logged In', firstName='Colin', gender='M', itemInSession=50, lastName='Freeman', length=277.89016, level='paid', location='Bakersfield, CA', method='PUT', page='NextSong', registration=1538173362000, sessionId=29, song='Rockpools', status=200, ts=1538352117000, userAgent='Mozilla/5.0 (Windows NT 6.1; WOW64; rv:31.0) Gecko/20100101 Firefox/31.0', userId='30')"
      ]
     },
     "execution_count": 196,
     "metadata": {},
     "output_type": "execute_result"
    }
   ],
   "source": [
    "# create a Spark session\n",
    "spark = SparkSession \\\n",
    "    .builder \\\n",
    "    .appName(\"Sparkify\") \\\n",
    "    .getOrCreate()\n",
    "# Read in full sparkify dataset\n",
    "event_data = \"mini_sparkify_event_data.json\"\n",
    "df = spark.read.json(event_data)\n",
    "df.head()"
   ]
  },
  {
   "cell_type": "code",
   "execution_count": 4,
   "metadata": {
    "scrolled": true
   },
   "outputs": [
    {
     "name": "stdout",
     "output_type": "stream",
     "text": [
      "root\n",
      " |-- artist: string (nullable = true)\n",
      " |-- auth: string (nullable = true)\n",
      " |-- firstName: string (nullable = true)\n",
      " |-- gender: string (nullable = true)\n",
      " |-- itemInSession: long (nullable = true)\n",
      " |-- lastName: string (nullable = true)\n",
      " |-- length: double (nullable = true)\n",
      " |-- level: string (nullable = true)\n",
      " |-- location: string (nullable = true)\n",
      " |-- method: string (nullable = true)\n",
      " |-- page: string (nullable = true)\n",
      " |-- registration: long (nullable = true)\n",
      " |-- sessionId: long (nullable = true)\n",
      " |-- song: string (nullable = true)\n",
      " |-- status: long (nullable = true)\n",
      " |-- ts: long (nullable = true)\n",
      " |-- userAgent: string (nullable = true)\n",
      " |-- userId: string (nullable = true)\n",
      "\n"
     ]
    }
   ],
   "source": [
    "# df schema\n",
    "df.printSchema()"
   ]
  },
  {
   "cell_type": "code",
   "execution_count": 5,
   "metadata": {
    "scrolled": false
   },
   "outputs": [
    {
     "name": "stdout",
     "output_type": "stream",
     "text": [
      "+--------------------+\n",
      "|                page|\n",
      "+--------------------+\n",
      "|              Cancel|\n",
      "|    Submit Downgrade|\n",
      "|         Thumbs Down|\n",
      "|                Home|\n",
      "|           Downgrade|\n",
      "|         Roll Advert|\n",
      "|              Logout|\n",
      "|       Save Settings|\n",
      "|Cancellation Conf...|\n",
      "|               About|\n",
      "| Submit Registration|\n",
      "|            Settings|\n",
      "|               Login|\n",
      "|            Register|\n",
      "|     Add to Playlist|\n",
      "|          Add Friend|\n",
      "|            NextSong|\n",
      "|           Thumbs Up|\n",
      "|                Help|\n",
      "|             Upgrade|\n",
      "+--------------------+\n",
      "only showing top 20 rows\n",
      "\n"
     ]
    }
   ],
   "source": [
    "# check for differnet pages\n",
    "df.createOrReplaceTempView('t1')\n",
    "spark.sql('''\n",
    "select distinct page\n",
    "from t1''').show()"
   ]
  },
  {
   "cell_type": "code",
   "execution_count": 6,
   "metadata": {
    "scrolled": false
   },
   "outputs": [
    {
     "name": "stdout",
     "output_type": "stream",
     "text": [
      "+-------------------------------------------------------------------------------------------------------------------------------------------+\n",
      "|userAgent                                                                                                                                  |\n",
      "+-------------------------------------------------------------------------------------------------------------------------------------------+\n",
      "|\"Mozilla/5.0 (Macintosh; Intel Mac OS X 10_8_5) AppleWebKit/537.36 (KHTML, like Gecko) Chrome/36.0.1985.143 Safari/537.36\"                 |\n",
      "|\"Mozilla/5.0 (Windows NT 5.1) AppleWebKit/537.36 (KHTML, like Gecko) Chrome/36.0.1985.143 Safari/537.36\"                                   |\n",
      "|Mozilla/5.0 (X11; Ubuntu; Linux i686; rv:31.0) Gecko/20100101 Firefox/31.0                                                                 |\n",
      "|\"Mozilla/5.0 (Macintosh; Intel Mac OS X 10_9_4) AppleWebKit/537.36 (KHTML, like Gecko) Chrome/36.0.1985.125 Safari/537.36\"                 |\n",
      "|\"Mozilla/5.0 (Macintosh; Intel Mac OS X 10_9_4) AppleWebKit/537.36 (KHTML, like Gecko) Chrome/35.0.1916.153 Safari/537.36\"                 |\n",
      "|Mozilla/5.0 (Macintosh; Intel Mac OS X 10.7; rv:31.0) Gecko/20100101 Firefox/31.0                                                          |\n",
      "|Mozilla/5.0 (Windows NT 6.1; WOW64; rv:30.0) Gecko/20100101 Firefox/30.0                                                                   |\n",
      "|Mozilla/5.0 (Windows NT 6.3; WOW64; rv:31.0) Gecko/20100101 Firefox/31.0                                                                   |\n",
      "|Mozilla/5.0 (compatible; MSIE 9.0; Windows NT 6.1; WOW64; Trident/5.0)                                                                     |\n",
      "|\"Mozilla/5.0 (Windows NT 6.3; WOW64) AppleWebKit/537.36 (KHTML, like Gecko) Chrome/36.0.1985.143 Safari/537.36\"                            |\n",
      "|Mozilla/5.0 (Macintosh; Intel Mac OS X 10.9; rv:31.0) Gecko/20100101 Firefox/31.0                                                          |\n",
      "|\"Mozilla/5.0 (Windows NT 5.1) AppleWebKit/537.36 (KHTML, like Gecko) Chrome/36.0.1985.125 Safari/537.36\"                                   |\n",
      "|null                                                                                                                                       |\n",
      "|\"Mozilla/5.0 (iPhone; CPU iPhone OS 7_1_1 like Mac OS X) AppleWebKit/537.51.2 (KHTML, like Gecko) Version/7.0 Mobile/11D201 Safari/9537.53\"|\n",
      "|\"Mozilla/5.0 (Windows NT 6.1; WOW64) AppleWebKit/537.36 (KHTML, like Gecko) Chrome/36.0.1985.125 Safari/537.36\"                            |\n",
      "|Mozilla/5.0 (Windows NT 6.1; WOW64; rv:31.0) Gecko/20100101 Firefox/31.0                                                                   |\n",
      "|Mozilla/5.0 (compatible; MSIE 9.0; Windows NT 6.1; Trident/5.0)                                                                            |\n",
      "|Mozilla/5.0 (compatible; MSIE 10.0; Windows NT 6.1; WOW64; Trident/6.0)                                                                    |\n",
      "|\"Mozilla/5.0 (Macintosh; Intel Mac OS X 10_8_5) AppleWebKit/537.36 (KHTML, like Gecko) Chrome/37.0.2062.94 Safari/537.36\"                  |\n",
      "|\"Mozilla/5.0 (Macintosh; Intel Mac OS X 10_9_2) AppleWebKit/537.75.14 (KHTML, like Gecko) Version/7.0.3 Safari/537.75.14\"                  |\n",
      "+-------------------------------------------------------------------------------------------------------------------------------------------+\n",
      "only showing top 20 rows\n",
      "\n"
     ]
    }
   ],
   "source": [
    "# check for different userAgent\n",
    "spark.sql('''\n",
    "select distinct userAgent\n",
    "from t1\n",
    "''').show(20,False)"
   ]
  },
  {
   "cell_type": "markdown",
   "metadata": {},
   "source": [
    "###### clean userAgent column\n",
    "\n",
    "Detailed sub-categories on userAgent is not useful for aggregation and analytical purpose. Instead We will only keep system information."
   ]
  },
  {
   "cell_type": "code",
   "execution_count": 7,
   "metadata": {},
   "outputs": [],
   "source": [
    "# remove \"\"\n",
    "df=df.withColumn(\"userAgent\",regexp_replace('userAgent','\"',''))\n",
    "# remove Mozilla/5.0 \n",
    "df=df.withColumn(\"userAgent\",regexp_replace('userAgent','Mozilla/5.0 ',''))"
   ]
  },
  {
   "cell_type": "code",
   "execution_count": 8,
   "metadata": {},
   "outputs": [],
   "source": [
    "# tokenize userAgent\n",
    "regexTokenizer =RegexTokenizer(inputCol='userAgent',outputCol='words',pattern=\"\\\\W\")\n",
    "df=regexTokenizer.transform(df)"
   ]
  },
  {
   "cell_type": "code",
   "execution_count": 9,
   "metadata": {},
   "outputs": [],
   "source": [
    "# keep first element in words column\n",
    "df=df.withColumn('OS',df.words[0].cast(StringType())).drop('words')"
   ]
  },
  {
   "cell_type": "code",
   "execution_count": 10,
   "metadata": {},
   "outputs": [
    {
     "data": {
      "text/plain": [
       "Row(artist='Martha Tilston', auth='Logged In', firstName='Colin', gender='M', itemInSession=50, lastName='Freeman', length=277.89016, level='paid', location='Bakersfield, CA', method='PUT', page='NextSong', registration=1538173362000, sessionId=29, song='Rockpools', status=200, ts=1538352117000, userAgent='(Windows NT 6.1; WOW64; rv:31.0) Gecko/20100101 Firefox/31.0', userId='30', OS='windows')"
      ]
     },
     "execution_count": 10,
     "metadata": {},
     "output_type": "execute_result"
    }
   ],
   "source": [
    "df.head()"
   ]
  },
  {
   "cell_type": "code",
   "execution_count": 11,
   "metadata": {
    "scrolled": true
   },
   "outputs": [
    {
     "name": "stdout",
     "output_type": "stream",
     "text": [
      "+-------------------------+\n",
      "|count(DISTINCT userAgent)|\n",
      "+-------------------------+\n",
      "|                       56|\n",
      "+-------------------------+\n",
      "\n"
     ]
    }
   ],
   "source": [
    "df.createOrReplaceTempView('t1')\n",
    "spark.sql('''\n",
    "select count(distinct userAgent)\n",
    "from t1\n",
    "''').show()"
   ]
  },
  {
   "cell_type": "markdown",
   "metadata": {},
   "source": [
    "###### check missing values for column userId and sessionId"
   ]
  },
  {
   "cell_type": "code",
   "execution_count": 12,
   "metadata": {
    "scrolled": true
   },
   "outputs": [
    {
     "name": "stdout",
     "output_type": "stream",
     "text": [
      "+------+----+---------+------+-------------+--------+------+-----+--------+------+----+------------+---------+----+------+---+---------+------+---+\n",
      "|artist|auth|firstName|gender|itemInSession|lastName|length|level|location|method|page|registration|sessionId|song|status| ts|userAgent|userId| OS|\n",
      "+------+----+---------+------+-------------+--------+------+-----+--------+------+----+------------+---------+----+------+---+---------+------+---+\n",
      "+------+----+---------+------+-------------+--------+------+-----+--------+------+----+------------+---------+----+------+---+---------+------+---+\n",
      "\n"
     ]
    }
   ],
   "source": [
    "# records without userids or sessionids\n",
    "spark.sql('''\n",
    "select *\n",
    "from t1\n",
    "where sessionId is null or userId is null''').show()"
   ]
  },
  {
   "cell_type": "markdown",
   "metadata": {},
   "source": [
    "> There are no Nan values in either column"
   ]
  },
  {
   "cell_type": "code",
   "execution_count": 13,
   "metadata": {
    "scrolled": false
   },
   "outputs": [
    {
     "name": "stdout",
     "output_type": "stream",
     "text": [
      "+------+\n",
      "|userId|\n",
      "+------+\n",
      "|      |\n",
      "|    10|\n",
      "|   100|\n",
      "|100001|\n",
      "|100002|\n",
      "|100003|\n",
      "|100004|\n",
      "|100005|\n",
      "|100006|\n",
      "|100007|\n",
      "|100008|\n",
      "|100009|\n",
      "|100010|\n",
      "|100011|\n",
      "|100012|\n",
      "|100013|\n",
      "|100014|\n",
      "|100015|\n",
      "|100016|\n",
      "|100017|\n",
      "+------+\n",
      "only showing top 20 rows\n",
      "\n"
     ]
    }
   ],
   "source": [
    "# check empty userids\n",
    "spark.sql('''\n",
    "select distinct userId\n",
    "from t1\n",
    "order by 1''').show()"
   ]
  },
  {
   "cell_type": "markdown",
   "metadata": {},
   "source": [
    "> However there are empty userids"
   ]
  },
  {
   "cell_type": "code",
   "execution_count": 15,
   "metadata": {},
   "outputs": [
    {
     "name": "stdout",
     "output_type": "stream",
     "text": [
      "+----------+-------------------+\n",
      "|      auth|               page|\n",
      "+----------+-------------------+\n",
      "|Logged Out|               Home|\n",
      "|     Guest|           Register|\n",
      "|Logged Out|              Error|\n",
      "|     Guest|              About|\n",
      "|     Guest|              Error|\n",
      "|Logged Out|              Login|\n",
      "|Logged Out|               Help|\n",
      "|     Guest|Submit Registration|\n",
      "|Logged Out|              About|\n",
      "|     Guest|               Help|\n",
      "|     Guest|               Home|\n",
      "+----------+-------------------+\n",
      "\n"
     ]
    }
   ],
   "source": [
    "# empty userid recrods characteristics\n",
    "spark.sql('''\n",
    "select distinct auth, page\n",
    "from t1\n",
    "where userId =\"\"\n",
    "''').show()"
   ]
  },
  {
   "cell_type": "markdown",
   "metadata": {},
   "source": [
    "> Empty userId records have majority features as NaN, uers didn't listen to any music. We will drop these rows."
   ]
  },
  {
   "cell_type": "code",
   "execution_count": 16,
   "metadata": {},
   "outputs": [
    {
     "data": {
      "text/plain": [
       "278154"
      ]
     },
     "execution_count": 16,
     "metadata": {},
     "output_type": "execute_result"
    }
   ],
   "source": [
    "df=spark.sql('''\n",
    "select *\n",
    "from t1\n",
    "where userId !=\"\"\n",
    "''')\n",
    "df.count()"
   ]
  },
  {
   "cell_type": "markdown",
   "metadata": {},
   "source": [
    "###### clean location column\n",
    "\n",
    "Location provides detailed sub-categories, which doesn't provide district level geographic data distribution. Instead we will keep the state abbreviation only so that we can aggregate data by states."
   ]
  },
  {
   "cell_type": "code",
   "execution_count": 17,
   "metadata": {},
   "outputs": [
    {
     "name": "stdout",
     "output_type": "stream",
     "text": [
      "+--------------------------------------+\n",
      "|location                              |\n",
      "+--------------------------------------+\n",
      "|Gainesville, FL                       |\n",
      "|Atlantic City-Hammonton, NJ           |\n",
      "|Deltona-Daytona Beach-Ormond Beach, FL|\n",
      "|San Diego-Carlsbad, CA                |\n",
      "|Cleveland-Elyria, OH                  |\n",
      "|Kingsport-Bristol-Bristol, TN-VA      |\n",
      "|New Haven-Milford, CT                 |\n",
      "|Birmingham-Hoover, AL                 |\n",
      "|Corpus Christi, TX                    |\n",
      "|Dubuque, IA                           |\n",
      "+--------------------------------------+\n",
      "only showing top 10 rows\n",
      "\n"
     ]
    }
   ],
   "source": [
    "# check different locations\n",
    "spark.sql('''\n",
    "select distinct location\n",
    "from t1\n",
    "''').show(10,False)"
   ]
  },
  {
   "cell_type": "code",
   "execution_count": 18,
   "metadata": {},
   "outputs": [
    {
     "name": "stdout",
     "output_type": "stream",
     "text": [
      "+------------------------+\n",
      "|count(DISTINCT location)|\n",
      "+------------------------+\n",
      "|                     114|\n",
      "+------------------------+\n",
      "\n"
     ]
    }
   ],
   "source": [
    "# check distinct amount\n",
    "spark.sql('''\n",
    "select count(distinct location)\n",
    "from t1\n",
    "''').show()"
   ]
  },
  {
   "cell_type": "code",
   "execution_count": 19,
   "metadata": {},
   "outputs": [],
   "source": [
    "# keep state abb only\n",
    "state=udf(lambda x: x.strip().split(', ')[-1])\n",
    "df=df.withColumn('location',state(df.location))"
   ]
  },
  {
   "cell_type": "code",
   "execution_count": 20,
   "metadata": {},
   "outputs": [
    {
     "data": {
      "text/plain": [
       "58"
      ]
     },
     "execution_count": 20,
     "metadata": {},
     "output_type": "execute_result"
    }
   ],
   "source": [
    "# check distinct amount of state abb\n",
    "df.select('location').dropDuplicates().count()"
   ]
  },
  {
   "cell_type": "markdown",
   "metadata": {},
   "source": [
    "# Exploratory Data Analysis\n",
    "When you're working with the full dataset, perform EDA by loading a small subset of the data and doing basic manipulations within Spark. In this workspace, you are already provided a small subset of data you can explore.\n",
    "\n",
    "### Define Churn\n",
    "\n",
    "Once you've done some preliminary analysis, create a column `Churn` to use as the label for your model. I suggest using the `Cancellation Confirmation` events to define your churn, which happen for both paid and free users. As a bonus task, you can also look into the `Downgrade` events.\n"
   ]
  },
  {
   "cell_type": "code",
   "execution_count": 22,
   "metadata": {},
   "outputs": [
    {
     "name": "stdout",
     "output_type": "stream",
     "text": [
      "amount of people stay (without Cancellation Confirmation status)\n",
      "+----------------------+\n",
      "|count(DISTINCT userId)|\n",
      "+----------------------+\n",
      "|                   173|\n",
      "+----------------------+\n",
      "\n"
     ]
    }
   ],
   "source": [
    "df.createOrReplaceTempView('t1')\n",
    "print(\"amount of people stay (without Cancellation Confirmation status)\")\n",
    "spark.sql('''\n",
    "select count(distinct userId)\n",
    "from t1\n",
    "where userId not in (\n",
    "select distinct userId\n",
    "from t1\n",
    "where page=\"Cancellation Confirmation\")\n",
    "''').show()"
   ]
  },
  {
   "cell_type": "code",
   "execution_count": 23,
   "metadata": {
    "scrolled": true
   },
   "outputs": [
    {
     "name": "stdout",
     "output_type": "stream",
     "text": [
      "amount of people chruned (with Cancellation Confirmation status)\n",
      "+----------------------+\n",
      "|count(DISTINCT userId)|\n",
      "+----------------------+\n",
      "|                    52|\n",
      "+----------------------+\n",
      "\n"
     ]
    }
   ],
   "source": [
    "print(\"amount of people chruned (with Cancellation Confirmation status)\")\n",
    "spark.sql('''\n",
    "select count(distinct userId)\n",
    "from t1\n",
    "where page=\"Cancellation Confirmation\"\n",
    "''').show()"
   ]
  },
  {
   "cell_type": "code",
   "execution_count": 24,
   "metadata": {},
   "outputs": [],
   "source": [
    "# flag 'Cancellation Confirmation' status\n",
    "df.createOrReplaceTempView('t1')\n",
    "spark.udf.register(\"churn\", lambda x: 1 if x==\"Cancellation Confirmation\" else 0, IntegerType())\n",
    "df=spark.sql('''\n",
    "select *, sum(churn(page))over(partition by userId) Churn\n",
    "from t1\n",
    "''')"
   ]
  },
  {
   "cell_type": "code",
   "execution_count": 25,
   "metadata": {
    "scrolled": false
   },
   "outputs": [
    {
     "name": "stdout",
     "output_type": "stream",
     "text": [
      "+-----+--------+\n",
      "|Churn|count(1)|\n",
      "+-----+--------+\n",
      "|    0|  233290|\n",
      "|    1|   44864|\n",
      "+-----+--------+\n",
      "\n"
     ]
    }
   ],
   "source": [
    "# check result\n",
    "df.createOrReplaceTempView('t1')\n",
    "spark.sql('''\n",
    "select Churn, count(*)\n",
    "from t1\n",
    "group by 1''').show()"
   ]
  },
  {
   "cell_type": "code",
   "execution_count": 26,
   "metadata": {},
   "outputs": [
    {
     "data": {
      "text/plain": [
       "5.1999375891583455"
      ]
     },
     "execution_count": 26,
     "metadata": {},
     "output_type": "execute_result"
    }
   ],
   "source": [
    "233290/44864"
   ]
  },
  {
   "cell_type": "markdown",
   "metadata": {},
   "source": [
    "> Our label on Churn is 1:5.2. This may cause imblance data problem for mechine learning procedure."
   ]
  },
  {
   "cell_type": "markdown",
   "metadata": {},
   "source": [
    "###### Wrangling pipeline"
   ]
  },
  {
   "cell_type": "code",
   "execution_count": 199,
   "metadata": {},
   "outputs": [],
   "source": [
    "def cleanpipe(df=df):\n",
    "    '''\n",
    "    clean df pipeline. Columns cleaned:\n",
    "    userAgent- keep operating system info only\n",
    "    userId- remove empty userId\n",
    "    location- keep state info only\n",
    "    input: dataframe need to be cleand\n",
    "    output: a cleaned dataframe'''\n",
    "    \n",
    "    ## userAgent\n",
    "    # remove \"\"\n",
    "    df=df.withColumn(\"userAgent\",regexp_replace('userAgent','\"',''))\n",
    "    # remove Mozilla/5.0 \n",
    "    df=df.withColumn(\"userAgent\",regexp_replace('userAgent','Mozilla/5.0 ',''))\n",
    "    # tokenize userAgent\n",
    "    regexTokenizer =RegexTokenizer(inputCol='userAgent',outputCol='words',pattern=\"\\\\W\")\n",
    "    df=regexTokenizer.transform(df)\n",
    "    # keep first element in words column\n",
    "    df=df.withColumn('OS',df.words[0].cast(StringType())).drop('words')\n",
    "    \n",
    "    ## userId\n",
    "    df.createOrReplaceTempView('t1')\n",
    "    df=spark.sql('''\n",
    "    select *\n",
    "    from t1\n",
    "    where userId !=\"\"\n",
    "    ''')\n",
    "    \n",
    "    ## location\n",
    "    # keep state abb only\n",
    "    state=udf(lambda x: x.strip().split(', ')[-1])\n",
    "    df=df.withColumn('location',state(df.location))\n",
    "    \n",
    "    ## flag 'Cancellation Confirmation' status\n",
    "    spark.udf.register(\"churn\", lambda x: 1 if x==\"Cancellation Confirmation\" else 0, IntegerType())\n",
    "    df=spark.sql('''\n",
    "    select *, sum(churn(page))over(partition by userId) Churn\n",
    "    from t1\n",
    "    ''')\n",
    "    \n",
    "    return df"
   ]
  },
  {
   "cell_type": "code",
   "execution_count": 200,
   "metadata": {},
   "outputs": [
    {
     "data": {
      "text/plain": [
       "Row(artist='Sleeping With Sirens', auth='Logged In', firstName='Darianna', gender='F', itemInSession=0, lastName='Carpenter', length=202.97098, level='free', location='CT', method='PUT', page='NextSong', registration=1538016340000, sessionId=31, song='Captain Tyin Knots VS Mr Walkway (No Way)', status=200, ts=1539003534000, userAgent='(iPhone; CPU iPhone OS 7_1_2 like Mac OS X) AppleWebKit/537.51.2 (KHTML, like Gecko) Version/7.0 Mobile/11D257 Safari/9537.53', userId='100010', OS='iphone', Churn=0)"
      ]
     },
     "execution_count": 200,
     "metadata": {},
     "output_type": "execute_result"
    }
   ],
   "source": [
    "df=cleanpipe()\n",
    "df.head()"
   ]
  },
  {
   "cell_type": "markdown",
   "metadata": {},
   "source": [
    "\n",
    "### Explore Data\n",
    "Once you've defined churn, perform some exploratory data analysis to observe the behavior for users who stayed vs users who churned. You can start by exploring aggregates on these two groups of users, observing how much of a specific action they experienced per a certain time unit or number of songs played."
   ]
  },
  {
   "cell_type": "markdown",
   "metadata": {},
   "source": [
    "###### Churn rate vs gender"
   ]
  },
  {
   "cell_type": "code",
   "execution_count": 27,
   "metadata": {},
   "outputs": [],
   "source": [
    "df.createOrReplaceTempView(\"churnsex\")\n",
    "churnsex=spark.sql('''\n",
    "select gender, avg(Churn) churn_rate\n",
    "from (\n",
    "select distinct userId,gender,Churn\n",
    "from churnsex) temp\n",
    "group by 1\n",
    "''').toPandas()"
   ]
  },
  {
   "cell_type": "code",
   "execution_count": 28,
   "metadata": {},
   "outputs": [
    {
     "data": {
      "text/html": [
       "<div>\n",
       "<style scoped>\n",
       "    .dataframe tbody tr th:only-of-type {\n",
       "        vertical-align: middle;\n",
       "    }\n",
       "\n",
       "    .dataframe tbody tr th {\n",
       "        vertical-align: top;\n",
       "    }\n",
       "\n",
       "    .dataframe thead th {\n",
       "        text-align: right;\n",
       "    }\n",
       "</style>\n",
       "<table border=\"1\" class=\"dataframe\">\n",
       "  <thead>\n",
       "    <tr style=\"text-align: right;\">\n",
       "      <th></th>\n",
       "      <th>gender</th>\n",
       "      <th>churn_rate</th>\n",
       "    </tr>\n",
       "  </thead>\n",
       "  <tbody>\n",
       "    <tr>\n",
       "      <th>0</th>\n",
       "      <td>F</td>\n",
       "      <td>0.192308</td>\n",
       "    </tr>\n",
       "    <tr>\n",
       "      <th>1</th>\n",
       "      <td>M</td>\n",
       "      <td>0.264463</td>\n",
       "    </tr>\n",
       "  </tbody>\n",
       "</table>\n",
       "</div>"
      ],
      "text/plain": [
       "  gender  churn_rate\n",
       "0      F    0.192308\n",
       "1      M    0.264463"
      ]
     },
     "execution_count": 28,
     "metadata": {},
     "output_type": "execute_result"
    }
   ],
   "source": [
    "churnsex"
   ]
  },
  {
   "cell_type": "code",
   "execution_count": 29,
   "metadata": {},
   "outputs": [
    {
     "data": {
      "image/png": "[encoded data removed]",
      "text/plain": [
       "<Figure size 1080x360 with 1 Axes>"
      ]
     },
     "metadata": {
      "needs_background": "light"
     },
     "output_type": "display_data"
    }
   ],
   "source": [
    "sns.barplot(churnsex['gender'],100*churnsex['churn_rate'])\n",
    "plt.title('Churn rate vs gender');"
   ]
  },
  {
   "cell_type": "markdown",
   "metadata": {},
   "source": [
    "> We can see that male churn rate is higher than female. 26.4% VS. 19.2% to be specific.\n",
    "\n",
    "###### churn rate vs location"
   ]
  },
  {
   "cell_type": "code",
   "execution_count": 30,
   "metadata": {},
   "outputs": [],
   "source": [
    "df.createOrReplaceTempView(\"chrunstate\")\n",
    "chrunstate=spark.sql('''\n",
    "select location, avg(Churn) churn_rate\n",
    "from (\n",
    "    select distinct userId,location,Churn\n",
    "    from chrunstate) temp\n",
    "group by 1\n",
    "having avg(Churn)>0\n",
    "order by 2 desc, 1\n",
    "''').toPandas()"
   ]
  },
  {
   "cell_type": "code",
   "execution_count": 31,
   "metadata": {},
   "outputs": [],
   "source": [
    "# user amount vs churn user amount every location\n",
    "chruncountstate=spark.sql('''\n",
    "select distinct userId,location,Churn\n",
    "from chrunstate\n",
    "order by 2\n",
    "''').toPandas()"
   ]
  },
  {
   "cell_type": "code",
   "execution_count": 32,
   "metadata": {
    "scrolled": false
   },
   "outputs": [
    {
     "data": {
      "image/png": "[encoded data removed]",
      "text/plain": [
       "<Figure size 1440x1080 with 2 Axes>"
      ]
     },
     "metadata": {
      "needs_background": "light"
     },
     "output_type": "display_data"
    }
   ],
   "source": [
    "plt.figure(figsize=(20,15))\n",
    "plt.subplot(211)\n",
    "sns.barplot(100*chrunstate['churn_rate'],chrunstate['location'],color='c')\n",
    "plt.title('churn rate vs location')\n",
    "\n",
    "plt.subplot(212)\n",
    "sns.countplot(data=chruncountstate,x='location',hue='Churn')\n",
    "plt.title('total uers and total churn per location')\n",
    "plt.xticks(rotation=90);"
   ]
  },
  {
   "cell_type": "markdown",
   "metadata": {},
   "source": [
    "> Here we can see churn ratio per location as well as uers/churn users count per location. One thing worth to notice, even though some of the state has a high churn ratio, it might due to the fact the user base is really small. Vice versa. \n",
    "\n",
    "> E.g. AR's churn rate is 100% because it has a total amount of 1 users while 1 churned.\n",
    "\n",
    "###### Churn status vs avg amount of songs listened\n",
    "###### Churn status vs avg amount of listen time (in hours)"
   ]
  },
  {
   "cell_type": "code",
   "execution_count": 33,
   "metadata": {
    "scrolled": false
   },
   "outputs": [
    {
     "data": {
      "text/html": [
       "<div>\n",
       "<style scoped>\n",
       "    .dataframe tbody tr th:only-of-type {\n",
       "        vertical-align: middle;\n",
       "    }\n",
       "\n",
       "    .dataframe tbody tr th {\n",
       "        vertical-align: top;\n",
       "    }\n",
       "\n",
       "    .dataframe thead th {\n",
       "        text-align: right;\n",
       "    }\n",
       "</style>\n",
       "<table border=\"1\" class=\"dataframe\">\n",
       "  <thead>\n",
       "    <tr style=\"text-align: right;\">\n",
       "      <th></th>\n",
       "      <th>Churn</th>\n",
       "      <th>avgsongpersuer</th>\n",
       "    </tr>\n",
       "  </thead>\n",
       "  <tbody>\n",
       "    <tr>\n",
       "      <th>0</th>\n",
       "      <td>0</td>\n",
       "      <td>1108.173410</td>\n",
       "    </tr>\n",
       "    <tr>\n",
       "      <th>1</th>\n",
       "      <td>1</td>\n",
       "      <td>699.884615</td>\n",
       "    </tr>\n",
       "  </tbody>\n",
       "</table>\n",
       "</div>"
      ],
      "text/plain": [
       "   Churn  avgsongpersuer\n",
       "0      0     1108.173410\n",
       "1      1      699.884615"
      ]
     },
     "execution_count": 33,
     "metadata": {},
     "output_type": "execute_result"
    }
   ],
   "source": [
    "# Churn status vs avg amount of songs listened\n",
    "df.createOrReplaceTempView('avgsong')\n",
    "avgsongpersuer=spark.sql('''\n",
    "select Churn, count(song)/count(distinct userId) avgsongpersuer\n",
    "from avgsong\n",
    "group by 1''').toPandas()\n",
    "avgsongpersuer"
   ]
  },
  {
   "cell_type": "code",
   "execution_count": 34,
   "metadata": {},
   "outputs": [
    {
     "data": {
      "text/html": [
       "<div>\n",
       "<style scoped>\n",
       "    .dataframe tbody tr th:only-of-type {\n",
       "        vertical-align: middle;\n",
       "    }\n",
       "\n",
       "    .dataframe tbody tr th {\n",
       "        vertical-align: top;\n",
       "    }\n",
       "\n",
       "    .dataframe thead th {\n",
       "        text-align: right;\n",
       "    }\n",
       "</style>\n",
       "<table border=\"1\" class=\"dataframe\">\n",
       "  <thead>\n",
       "    <tr style=\"text-align: right;\">\n",
       "      <th></th>\n",
       "      <th>Churn</th>\n",
       "      <th>avgtimepersuer</th>\n",
       "    </tr>\n",
       "  </thead>\n",
       "  <tbody>\n",
       "    <tr>\n",
       "      <th>0</th>\n",
       "      <td>0</td>\n",
       "      <td>76.713038</td>\n",
       "    </tr>\n",
       "    <tr>\n",
       "      <th>1</th>\n",
       "      <td>1</td>\n",
       "      <td>48.337297</td>\n",
       "    </tr>\n",
       "  </tbody>\n",
       "</table>\n",
       "</div>"
      ],
      "text/plain": [
       "   Churn  avgtimepersuer\n",
       "0      0       76.713038\n",
       "1      1       48.337297"
      ]
     },
     "execution_count": 34,
     "metadata": {},
     "output_type": "execute_result"
    }
   ],
   "source": [
    "# Churn status vs avg amount of listen time (in hours)\n",
    "avgtime=spark.sql('''\n",
    "select Churn, sum(length)/count(distinct userId)/60/60 avgtimepersuer\n",
    "from avgsong\n",
    "group by 1''').toPandas()\n",
    "avgtime"
   ]
  },
  {
   "cell_type": "code",
   "execution_count": 35,
   "metadata": {},
   "outputs": [
    {
     "data": {
      "text/html": [
       "<div>\n",
       "<style scoped>\n",
       "    .dataframe tbody tr th:only-of-type {\n",
       "        vertical-align: middle;\n",
       "    }\n",
       "\n",
       "    .dataframe tbody tr th {\n",
       "        vertical-align: top;\n",
       "    }\n",
       "\n",
       "    .dataframe thead th {\n",
       "        text-align: right;\n",
       "    }\n",
       "</style>\n",
       "<table border=\"1\" class=\"dataframe\">\n",
       "  <thead>\n",
       "    <tr style=\"text-align: right;\">\n",
       "      <th></th>\n",
       "      <th>userId</th>\n",
       "      <th>Churn</th>\n",
       "      <th>hrs</th>\n",
       "      <th>songs</th>\n",
       "    </tr>\n",
       "  </thead>\n",
       "  <tbody>\n",
       "    <tr>\n",
       "      <th>0</th>\n",
       "      <td>100010</td>\n",
       "      <td>0</td>\n",
       "      <td>18.59</td>\n",
       "      <td>275</td>\n",
       "    </tr>\n",
       "    <tr>\n",
       "      <th>1</th>\n",
       "      <td>200002</td>\n",
       "      <td>0</td>\n",
       "      <td>26.11</td>\n",
       "      <td>387</td>\n",
       "    </tr>\n",
       "    <tr>\n",
       "      <th>2</th>\n",
       "      <td>125</td>\n",
       "      <td>1</td>\n",
       "      <td>0.58</td>\n",
       "      <td>8</td>\n",
       "    </tr>\n",
       "    <tr>\n",
       "      <th>3</th>\n",
       "      <td>124</td>\n",
       "      <td>0</td>\n",
       "      <td>281.20</td>\n",
       "      <td>4079</td>\n",
       "    </tr>\n",
       "    <tr>\n",
       "      <th>4</th>\n",
       "      <td>51</td>\n",
       "      <td>1</td>\n",
       "      <td>145.35</td>\n",
       "      <td>2111</td>\n",
       "    </tr>\n",
       "    <tr>\n",
       "      <th>...</th>\n",
       "      <td>...</td>\n",
       "      <td>...</td>\n",
       "      <td>...</td>\n",
       "      <td>...</td>\n",
       "    </tr>\n",
       "    <tr>\n",
       "      <th>220</th>\n",
       "      <td>45</td>\n",
       "      <td>0</td>\n",
       "      <td>101.98</td>\n",
       "      <td>1484</td>\n",
       "    </tr>\n",
       "    <tr>\n",
       "      <th>221</th>\n",
       "      <td>57</td>\n",
       "      <td>0</td>\n",
       "      <td>5.90</td>\n",
       "      <td>92</td>\n",
       "    </tr>\n",
       "    <tr>\n",
       "      <th>222</th>\n",
       "      <td>200021</td>\n",
       "      <td>1</td>\n",
       "      <td>83.53</td>\n",
       "      <td>1227</td>\n",
       "    </tr>\n",
       "    <tr>\n",
       "      <th>223</th>\n",
       "      <td>119</td>\n",
       "      <td>0</td>\n",
       "      <td>12.42</td>\n",
       "      <td>173</td>\n",
       "    </tr>\n",
       "    <tr>\n",
       "      <th>224</th>\n",
       "      <td>100001</td>\n",
       "      <td>1</td>\n",
       "      <td>9.74</td>\n",
       "      <td>133</td>\n",
       "    </tr>\n",
       "  </tbody>\n",
       "</table>\n",
       "<p>225 rows × 4 columns</p>\n",
       "</div>"
      ],
      "text/plain": [
       "     userId  Churn     hrs  songs\n",
       "0    100010      0   18.59    275\n",
       "1    200002      0   26.11    387\n",
       "2       125      1    0.58      8\n",
       "3       124      0  281.20   4079\n",
       "4        51      1  145.35   2111\n",
       "..      ...    ...     ...    ...\n",
       "220      45      0  101.98   1484\n",
       "221      57      0    5.90     92\n",
       "222  200021      1   83.53   1227\n",
       "223     119      0   12.42    173\n",
       "224  100001      1    9.74    133\n",
       "\n",
       "[225 rows x 4 columns]"
      ]
     },
     "execution_count": 35,
     "metadata": {},
     "output_type": "execute_result"
    }
   ],
   "source": [
    "# casster\n",
    "hrssongs=spark.sql('''\n",
    "select distinct userId, Churn, round(sum(length)/60/60,2) hrs, count(song) songs\n",
    "from avgsong\n",
    "group by 1,2''').toPandas()\n",
    "hrssongs"
   ]
  },
  {
   "cell_type": "code",
   "execution_count": 36,
   "metadata": {
    "scrolled": false
   },
   "outputs": [
    {
     "data": {
      "image/png": "[encoded data removed]",
      "text/plain": [
       "<Figure size 1080x360 with 2 Axes>"
      ]
     },
     "metadata": {
      "needs_background": "light"
     },
     "output_type": "display_data"
    }
   ],
   "source": [
    "plt.subplot(121)\n",
    "sns.barplot(avgsongpersuer['Churn'],avgsongpersuer['avgsongpersuer'])\n",
    "plt.title('Churn status vs avg song listened')\n",
    "plt.ylabel('count')\n",
    "\n",
    "plt.subplot(122)\n",
    "sns.barplot(avgtime['Churn'],avgtime['avgtimepersuer'])\n",
    "plt.title('Churn status vs avg amount of listen time (in hours)')\n",
    "plt.ylabel(\"hours\");"
   ]
  },
  {
   "cell_type": "code",
   "execution_count": 37,
   "metadata": {
    "scrolled": false
   },
   "outputs": [
    {
     "data": {
      "image/png": "[encoded data removed]",
      "text/plain": [
       "<Figure size 402.375x360 with 1 Axes>"
      ]
     },
     "metadata": {
      "needs_background": "light"
     },
     "output_type": "display_data"
    }
   ],
   "source": [
    "g=sns.FacetGrid(data=hrssongs, hue='Churn',height=5)\n",
    "g.map(plt.scatter,'songs','hrs')\n",
    "g.add_legend()\n",
    "plt.title('songs vs listen hrs between two group');"
   ]
  },
  {
   "cell_type": "code",
   "execution_count": 38,
   "metadata": {},
   "outputs": [
    {
     "name": "stdout",
     "output_type": "stream",
     "text": [
      "Difference of amount of songs between two groups is: 408\n"
     ]
    }
   ],
   "source": [
    "print(\"Difference of amount of songs between two groups is:\",\n",
    "int(avgsongpersuer['avgsongpersuer'].max()-avgsongpersuer['avgsongpersuer'].min()))"
   ]
  },
  {
   "cell_type": "code",
   "execution_count": 39,
   "metadata": {},
   "outputs": [
    {
     "name": "stdout",
     "output_type": "stream",
     "text": [
      "Difference of amount of listen time between two groups is 28.38 hrs\n"
     ]
    }
   ],
   "source": [
    "print(\"Difference of amount of listen time between two groups is {:.2f} hrs\"\n",
    "      .format(avgtime['avgtimepersuer'].max()-avgtime['avgtimepersuer'].min()))"
   ]
  },
  {
   "cell_type": "markdown",
   "metadata": {},
   "source": [
    "> We can see a trend that user who stayed listend 408 more songs on average than the ones who churned. User who stayed spent 28.38 hours more than user who churned on listening musics. Scatter plot indicates the relationships.\n",
    "\n",
    "###### Song length proportional distribution by churn group"
   ]
  },
  {
   "cell_type": "code",
   "execution_count": 40,
   "metadata": {},
   "outputs": [],
   "source": [
    "churnedlen=spark.sql('''\n",
    "select length\n",
    "from avgsong\n",
    "where Churn=1''').toPandas()\n",
    "\n",
    "staylen=spark.sql('''\n",
    "select length\n",
    "from avgsong\n",
    "where Churn=0''').toPandas()"
   ]
  },
  {
   "cell_type": "code",
   "execution_count": 41,
   "metadata": {
    "scrolled": true
   },
   "outputs": [
    {
     "data": {
      "image/png": "[encoded data removed]",
      "text/plain": [
       "<Figure size 1080x360 with 1 Axes>"
      ]
     },
     "metadata": {
      "needs_background": "light"
     },
     "output_type": "display_data"
    }
   ],
   "source": [
    "sns.distplot(churnedlen,label='churn',hist_kws={'alpha':1})\n",
    "sns.distplot(staylen,label='stay',hist_kws={'alpha':.5})\n",
    "plt.legend(loc=0)\n",
    "plt.title('song length distribution by churn group')\n",
    "plt.show();"
   ]
  },
  {
   "cell_type": "markdown",
   "metadata": {},
   "source": [
    "> In term of proportional distributions of lengths of songs listened by two cohorts, they are very similar.\n",
    "###### Status 404 distribution between cohorts"
   ]
  },
  {
   "cell_type": "code",
   "execution_count": 42,
   "metadata": {
    "scrolled": true
   },
   "outputs": [],
   "source": [
    "status=spark.sql('''\n",
    "select status, Churn, count(status)/count(distinct userId) ratio\n",
    "from avgsong\n",
    "where status='404'\n",
    "group by 1,2''').toPandas()"
   ]
  },
  {
   "cell_type": "code",
   "execution_count": 43,
   "metadata": {},
   "outputs": [
    {
     "data": {
      "image/png": "[encoded data removed]",
      "text/plain": [
       "<Figure size 1080x360 with 1 Axes>"
      ]
     },
     "metadata": {
      "needs_background": "light"
     },
     "output_type": "display_data"
    }
   ],
   "source": [
    "sns.barplot(data=status,x='status',y='ratio',hue='Churn')\n",
    "plt.ylabel('count')\n",
    "plt.title('avg 404 received per user');"
   ]
  },
  {
   "cell_type": "code",
   "execution_count": 44,
   "metadata": {
    "scrolled": true
   },
   "outputs": [
    {
     "data": {
      "text/html": [
       "<div>\n",
       "<style scoped>\n",
       "    .dataframe tbody tr th:only-of-type {\n",
       "        vertical-align: middle;\n",
       "    }\n",
       "\n",
       "    .dataframe tbody tr th {\n",
       "        vertical-align: top;\n",
       "    }\n",
       "\n",
       "    .dataframe thead th {\n",
       "        text-align: right;\n",
       "    }\n",
       "</style>\n",
       "<table border=\"1\" class=\"dataframe\">\n",
       "  <thead>\n",
       "    <tr style=\"text-align: right;\">\n",
       "      <th></th>\n",
       "      <th>status</th>\n",
       "      <th>Churn</th>\n",
       "      <th>ratio</th>\n",
       "    </tr>\n",
       "  </thead>\n",
       "  <tbody>\n",
       "    <tr>\n",
       "      <th>0</th>\n",
       "      <td>404</td>\n",
       "      <td>0</td>\n",
       "      <td>2.315789</td>\n",
       "    </tr>\n",
       "    <tr>\n",
       "      <th>1</th>\n",
       "      <td>404</td>\n",
       "      <td>1</td>\n",
       "      <td>1.454545</td>\n",
       "    </tr>\n",
       "  </tbody>\n",
       "</table>\n",
       "</div>"
      ],
      "text/plain": [
       "   status  Churn     ratio\n",
       "0     404      0  2.315789\n",
       "1     404      1  1.454545"
      ]
     },
     "execution_count": 44,
     "metadata": {},
     "output_type": "execute_result"
    }
   ],
   "source": [
    "status"
   ]
  },
  {
   "cell_type": "markdown",
   "metadata": {},
   "source": [
    "> To inspect if user churn due to HTTP technical reason, we can check average 404 message received per user in each group. User who stayed receive more than 2 per person while user churned receive less than 1.5. This indicates status may not be a strong causation.\n",
    "###### Page distributions in each group"
   ]
  },
  {
   "cell_type": "code",
   "execution_count": 45,
   "metadata": {},
   "outputs": [],
   "source": [
    "page=spark.sql('''\n",
    "select Churn,page, count(userId)/count(distinct userId) avg_interaction\n",
    "from avgsong\n",
    "group by 1,2\n",
    "order by 2,1''').toPandas()"
   ]
  },
  {
   "cell_type": "code",
   "execution_count": 46,
   "metadata": {},
   "outputs": [
    {
     "data": {
      "image/png": "[encoded data removed]",
      "text/plain": [
       "<Figure size 1080x360 with 1 Axes>"
      ]
     },
     "metadata": {
      "needs_background": "light"
     },
     "output_type": "display_data"
    }
   ],
   "source": [
    "sns.barplot(y=page['page'],x=page['avg_interaction'],hue=page['Churn'])\n",
    "plt.xscale('log')\n",
    "locs, labels=plt.xticks()\n",
    "plt.xticks(ticks=locs,labels=locs)\n",
    "plt.xlim(.1,1500)\n",
    "plt.title('Avg Page Interaction Per User')\n",
    "plt.xlabel('avg_interaction times');"
   ]
  },
  {
   "cell_type": "code",
   "execution_count": 47,
   "metadata": {},
   "outputs": [
    {
     "name": "stdout",
     "output_type": "stream",
     "text": [
      "Roll Advert difference between two cohorts is : 0.448280254777071\n"
     ]
    }
   ],
   "source": [
    "print(\"Roll Advert difference between two cohorts is :\",page.query(\"page=='Roll Advert'\")['avg_interaction'].diff()[21])"
   ]
  },
  {
   "cell_type": "code",
   "execution_count": 48,
   "metadata": {},
   "outputs": [
    {
     "name": "stdout",
     "output_type": "stream",
     "text": [
      "Upgrade difference between two cohorts is : 0.0728285537445843\n"
     ]
    }
   ],
   "source": [
    "print(\"Upgrade difference between two cohorts is :\",page.query(\"page=='Upgrade'\")['avg_interaction'].diff()[35])"
   ]
  },
  {
   "cell_type": "markdown",
   "metadata": {},
   "source": [
    "> Observing 'Avg Page Interaction Per User' plot, we can gain some interesting insights. Gerenally speaking, stayed users interact with app more than churned users. But we can see four page categories churned users interact more than stayed users. They are:\n",
    "    * Cancel\n",
    "    * Cancellation Confirmation\n",
    "    * Roll Advert\n",
    "    * Upgrade\n",
    "> Regardless of cancel interactions, churned users have 0.45 more roll advert page than stayed user on average, could they churned because they received too many ads? Another interesting fact is churned uer land on Upgrade page more than stayed users even though the difference is really small (around 0.07). This might suggest more customers have considered upgrade account in churn cohort than stay cohort. But when we look at Submit Upgrade page interactions, stay cohort still higher than churned cohort, means convert rate of stayed users is higher than churned users, which make sense.\n",
    "###### Operating system vs churn rate"
   ]
  },
  {
   "cell_type": "code",
   "execution_count": 49,
   "metadata": {
    "scrolled": false
   },
   "outputs": [
    {
     "data": {
      "text/html": [
       "<div>\n",
       "<style scoped>\n",
       "    .dataframe tbody tr th:only-of-type {\n",
       "        vertical-align: middle;\n",
       "    }\n",
       "\n",
       "    .dataframe tbody tr th {\n",
       "        vertical-align: top;\n",
       "    }\n",
       "\n",
       "    .dataframe thead th {\n",
       "        text-align: right;\n",
       "    }\n",
       "</style>\n",
       "<table border=\"1\" class=\"dataframe\">\n",
       "  <thead>\n",
       "    <tr style=\"text-align: right;\">\n",
       "      <th></th>\n",
       "      <th>OS</th>\n",
       "      <th>churnrate</th>\n",
       "    </tr>\n",
       "  </thead>\n",
       "  <tbody>\n",
       "    <tr>\n",
       "      <th>0</th>\n",
       "      <td>x11</td>\n",
       "      <td>41.666667</td>\n",
       "    </tr>\n",
       "    <tr>\n",
       "      <th>1</th>\n",
       "      <td>iphone</td>\n",
       "      <td>30.769231</td>\n",
       "    </tr>\n",
       "    <tr>\n",
       "      <th>2</th>\n",
       "      <td>windows</td>\n",
       "      <td>22.641509</td>\n",
       "    </tr>\n",
       "    <tr>\n",
       "      <th>3</th>\n",
       "      <td>macintosh</td>\n",
       "      <td>22.093023</td>\n",
       "    </tr>\n",
       "    <tr>\n",
       "      <th>4</th>\n",
       "      <td>compatible</td>\n",
       "      <td>0.000000</td>\n",
       "    </tr>\n",
       "    <tr>\n",
       "      <th>5</th>\n",
       "      <td>ipad</td>\n",
       "      <td>0.000000</td>\n",
       "    </tr>\n",
       "  </tbody>\n",
       "</table>\n",
       "</div>"
      ],
      "text/plain": [
       "           OS  churnrate\n",
       "0         x11  41.666667\n",
       "1      iphone  30.769231\n",
       "2     windows  22.641509\n",
       "3   macintosh  22.093023\n",
       "4  compatible   0.000000\n",
       "5        ipad   0.000000"
      ]
     },
     "execution_count": 49,
     "metadata": {},
     "output_type": "execute_result"
    }
   ],
   "source": [
    "oschurn=spark.sql('''\n",
    "select OS,100*avg(Churn) churnrate\n",
    "from (select distinct OS, userId, Churn\n",
    "        from avgsong) temp\n",
    "group by 1\n",
    "order by 2 desc''').toPandas()\n",
    "oschurn"
   ]
  },
  {
   "cell_type": "code",
   "execution_count": 50,
   "metadata": {},
   "outputs": [
    {
     "name": "stdout",
     "output_type": "stream",
     "text": [
      "+----------+----------------------+\n",
      "|        OS|count(DISTINCT userId)|\n",
      "+----------+----------------------+\n",
      "|   windows|                   106|\n",
      "| macintosh|                    86|\n",
      "|    iphone|                    13|\n",
      "|       x11|                    12|\n",
      "|compatible|                     5|\n",
      "|      ipad|                     3|\n",
      "+----------+----------------------+\n",
      "\n"
     ]
    }
   ],
   "source": [
    "spark.sql('''\n",
    "select OS, count(distinct userId)\n",
    "from avgsong\n",
    "group by 1\n",
    "order by 2 desc''').show()"
   ]
  },
  {
   "cell_type": "code",
   "execution_count": 51,
   "metadata": {},
   "outputs": [
    {
     "data": {
      "image/png": "[encoded data removed]",
      "text/plain": [
       "<Figure size 1080x360 with 1 Axes>"
      ]
     },
     "metadata": {
      "needs_background": "light"
     },
     "output_type": "display_data"
    }
   ],
   "source": [
    "sns.barplot(data=oschurn,x='OS',y='churnrate',color='c')\n",
    "plt.title('Operating system vs churn rate');"
   ]
  },
  {
   "cell_type": "markdown",
   "metadata": {},
   "source": [
    "> The churn rate formula is: \n",
    "$$\\frac{Number\\ of\\ Distinct\\ Users\\ Churned}{Total\\ Distinct\\ Users\\ On\\ OS}$$\n",
    "> We can see on Linux x11 OS, the churn rate is over 40%, which indicates app UX might need to be improved on specific OS.\n",
    "###### Time series analysis"
   ]
  },
  {
   "cell_type": "code",
   "execution_count": 52,
   "metadata": {},
   "outputs": [],
   "source": [
    "# make a copy\n",
    "timedf=df"
   ]
  },
  {
   "cell_type": "code",
   "execution_count": 53,
   "metadata": {
    "scrolled": true
   },
   "outputs": [],
   "source": [
    "# function to extract hour and weekday\n",
    "get_hour=udf(lambda x: datetime.fromtimestamp(x/1000.0).hour)\n",
    "get_weekday=udf(lambda x: datetime.fromtimestamp(x/1000.0).weekday())"
   ]
  },
  {
   "cell_type": "code",
   "execution_count": 54,
   "metadata": {},
   "outputs": [],
   "source": [
    "# create new columns to store values\n",
    "timedf=timedf.withColumn(\"hour\",get_hour(df.ts).cast(\"float\"))\n",
    "\n",
    "timedf=timedf.withColumn(\"weekday\",get_weekday(df.ts))"
   ]
  },
  {
   "cell_type": "code",
   "execution_count": 55,
   "metadata": {
    "scrolled": true
   },
   "outputs": [],
   "source": [
    "timedf.createOrReplaceTempView(\"timetable\")\n",
    "avgperhour=spark.sql('''\n",
    "select hour, Churn, count(song)/count(distinct userId) avgperhour\n",
    "from timetable\n",
    "group by 1,2\n",
    "order by 1,2''').toPandas()"
   ]
  },
  {
   "cell_type": "code",
   "execution_count": 56,
   "metadata": {},
   "outputs": [],
   "source": [
    "avgperday=spark.sql('''\n",
    "select weekday, Churn, count(song)/count(distinct userId) avgperday\n",
    "from timetable\n",
    "group by 1,2\n",
    "order by 1,2''').toPandas()"
   ]
  },
  {
   "cell_type": "code",
   "execution_count": 57,
   "metadata": {
    "scrolled": false
   },
   "outputs": [
    {
     "data": {
      "image/png": "[encoded data removed]",
      "text/plain": [
       "<Figure size 1440x720 with 2 Axes>"
      ]
     },
     "metadata": {
      "needs_background": "light"
     },
     "output_type": "display_data"
    }
   ],
   "source": [
    "# avg songs listened by time\n",
    "plt.figure(figsize=(20,10))\n",
    "plt.subplot(211)\n",
    "sns.lineplot(data=avgperhour,x='hour',y='avgperhour',hue='Churn')\n",
    "ticks=np.arange(24)\n",
    "plt.xticks(ticks=ticks,labels=ticks.tolist())\n",
    "plt.title('avg songs listened by time')\n",
    "plt.xlabel('Hour')\n",
    "plt.ylabel('songs played')\n",
    "plt.legend(loc=0)\n",
    "\n",
    "# avg songs listened by day\n",
    "plt.subplot(212)\n",
    "sns.lineplot(data=avgperday,x='weekday',y='avgperday',hue='Churn')\n",
    "ticks=np.arange(0,7)\n",
    "labels=['Mon','Tue',\"Wed\",'Thu','Fri','Sta',\"Sun\"]\n",
    "plt.xticks(ticks=ticks,labels=labels)\n",
    "plt.title('avg songs listened by day')\n",
    "plt.xlabel('weekday')\n",
    "plt.ylabel('songs played')\n",
    "plt.legend(loc=0);"
   ]
  },
  {
   "cell_type": "markdown",
   "metadata": {},
   "source": [
    "> For hours of a day time analysis, we can see average songs played by distinct users in stayed group is higher than churned group. They both following a similar trend, users have the least interaction with app during 23 to next day 4 o'clock in the morning, this make perfect sense because of sleeping schedule. When some of users start to get ready for work or morning exercise, we can start to see a increase after 4. Both lines gradually increase until reach the peaks round 12 at noon, this might suggest users like to use the app during lunch break. We experience a slight drop after user go back to work after lunch, then we see a small peak right before or after people get off work, which is round 15. Our usage trends start to decrease as the day windind down, near the end of the day around 22 o'clock, we see a boost which suggest some users use the app before sleep.\n",
    "\n",
    "> For weekday analysis, again user who stayed generally played more songs than users who churned, but user behaviors are slightly different between two groups. Start from Monday we can see a continues decrease until Wednesday for stayed cohort, then we see an increase from Wednesday to Thursday and gradually decrease toward weekend. However, churned cohort shows an increase from Monday to Tuesday and gradually decrease since then. Both groups experience a deep drop start from Friday all along until Monday. This indicates uers use app to play musics on a day-to-day base instead of weekend entertainments."
   ]
  },
  {
   "cell_type": "markdown",
   "metadata": {},
   "source": [
    "# Feature Engineering\n",
    "Once you've familiarized yourself with the data, build out the features you find promising to train your model on. To work with the full dataset, you can follow the following steps.\n",
    "- Write a script to extract the necessary features from the smaller subset of data\n",
    "- Ensure that your script is scalable, using the best practices discussed in Lesson 3\n",
    "- Try your script on the full data set, debugging your script if necessary\n",
    "\n",
    "If you are working in the classroom workspace, you can just extract features based on the small subset of data contained here. Be sure to transfer over this work to the larger dataset when you work on your Spark cluster.\n"
   ]
  },
  {
   "cell_type": "code",
   "execution_count": 58,
   "metadata": {
    "scrolled": false
   },
   "outputs": [
    {
     "name": "stdout",
     "output_type": "stream",
     "text": [
      "root\n",
      " |-- artist: string (nullable = true)\n",
      " |-- auth: string (nullable = true)\n",
      " |-- firstName: string (nullable = true)\n",
      " |-- gender: string (nullable = true)\n",
      " |-- itemInSession: long (nullable = true)\n",
      " |-- lastName: string (nullable = true)\n",
      " |-- length: double (nullable = true)\n",
      " |-- level: string (nullable = true)\n",
      " |-- location: string (nullable = true)\n",
      " |-- method: string (nullable = true)\n",
      " |-- page: string (nullable = true)\n",
      " |-- registration: long (nullable = true)\n",
      " |-- sessionId: long (nullable = true)\n",
      " |-- song: string (nullable = true)\n",
      " |-- status: long (nullable = true)\n",
      " |-- ts: long (nullable = true)\n",
      " |-- userAgent: string (nullable = true)\n",
      " |-- userId: string (nullable = true)\n",
      " |-- OS: string (nullable = true)\n",
      " |-- Churn: long (nullable = true)\n",
      "\n"
     ]
    }
   ],
   "source": [
    "df_feature=df\n",
    "df_feature.createOrReplaceTempView(\"featureeg\")\n",
    "df_feature.printSchema()"
   ]
  },
  {
   "cell_type": "markdown",
   "metadata": {},
   "source": [
    "> check edge cases"
   ]
  },
  {
   "cell_type": "code",
   "execution_count": 59,
   "metadata": {},
   "outputs": [
    {
     "name": "stdout",
     "output_type": "stream",
     "text": [
      "+------+\n",
      "|userId|\n",
      "+------+\n",
      "+------+\n",
      "\n"
     ]
    }
   ],
   "source": [
    "# one user multiple location\n",
    "spark.sql('''\n",
    "select userId\n",
    "from featureeg\n",
    "group by 1\n",
    "having count(distinct location) !=1\n",
    "''').show()"
   ]
  },
  {
   "cell_type": "code",
   "execution_count": 60,
   "metadata": {
    "scrolled": false
   },
   "outputs": [
    {
     "name": "stdout",
     "output_type": "stream",
     "text": [
      "+------+------------------+\n",
      "|userId|count(DISTINCT OS)|\n",
      "+------+------------------+\n",
      "+------+------------------+\n",
      "\n"
     ]
    }
   ],
   "source": [
    "# one user multiple OS\n",
    "spark.sql('''\n",
    "select distinct userId,count(distinct OS) \n",
    "from featureeg\n",
    "group by 1\n",
    "having count(distinct OS) !=1\n",
    "''').show()"
   ]
  },
  {
   "cell_type": "markdown",
   "metadata": {},
   "source": [
    "###### categorical features\n",
    "* gender\n",
    "* location\n",
    "* OS"
   ]
  },
  {
   "cell_type": "code",
   "execution_count": 61,
   "metadata": {},
   "outputs": [],
   "source": [
    "def cat_engineer(df_feature):\n",
    "    '''\n",
    "    input: cleaned df\n",
    "    output: df_cat-one hot encoded categorical features with unique userIds\n",
    "    '''\n",
    "    # create view\n",
    "    df_feature.createOrReplaceTempView(\"featureeg\")\n",
    "    \n",
    "    # select distinct records\n",
    "    df_cat=spark.sql('''\n",
    "            select distinct userId, gender, location, OS\n",
    "            from featureeg\n",
    "            ''').toPandas()\n",
    "    # convert to pandas to get dummy variables\n",
    "    df_cat=pd.get_dummies(df_cat,columns=['gender','location','OS'],drop_first=True)\n",
    "    # convert back to spark\n",
    "    df_cat=spark.createDataFrame(df_cat)\n",
    "    return df_cat"
   ]
  },
  {
   "cell_type": "code",
   "execution_count": 62,
   "metadata": {},
   "outputs": [],
   "source": [
    "df_cat=cat_engineer(df_feature)"
   ]
  },
  {
   "cell_type": "code",
   "execution_count": 63,
   "metadata": {},
   "outputs": [
    {
     "data": {
      "text/plain": [
       "Row(userId='133', gender_M=1, location_AL=0, location_AR=0, location_AZ=0, location_CA=1, location_CO=0, location_CT=0, location_DC-VA-MD-WV=0, location_FL=0, location_GA=0, location_GA-AL=0, location_IA=0, location_IL=0, location_IL-IN-WI=0, location_IL-MO=0, location_IN=0, location_KY=0, location_KY-IN=0, location_LA=0, location_MA-NH=0, location_MD=0, location_MD-WV=0, location_MI=0, location_MN-WI=0, location_MO-IL=0, location_MO-KS=0, location_MS=0, location_MT=0, location_NC=0, location_NC-SC=0, location_NE-IA=0, location_NH=0, location_NJ=0, location_NV=0, location_NY=0, location_NY-NJ-PA=0, location_OH=0, location_OH-KY-IN=0, location_OK=0, location_OR=0, location_OR-WA=0, location_PA=0, location_PA-NJ=0, location_PA-NJ-DE-MD=0, location_RI-MA=0, location_SC=0, location_SC-NC=0, location_TN=0, location_TN-MS-AR=0, location_TN-VA=0, location_TX=0, location_UT=0, location_UT-ID=0, location_VA=0, location_VA-NC=0, location_WA=0, location_WI=0, location_WV=0, OS_ipad=0, OS_iphone=0, OS_macintosh=0, OS_windows=1, OS_x11=0)"
      ]
     },
     "execution_count": 63,
     "metadata": {},
     "output_type": "execute_result"
    }
   ],
   "source": [
    "df_cat.head()"
   ]
  },
  {
   "cell_type": "markdown",
   "metadata": {},
   "source": [
    "###### numerical features\n",
    "* Num of distinct artist\n",
    "* Total length\n",
    "* Num of songs played\n",
    "* Num of 404 status received\n",
    "* Customer lifetime $\\ last\\ ts-registration$\n",
    "* page count"
   ]
  },
  {
   "cell_type": "code",
   "execution_count": 64,
   "metadata": {},
   "outputs": [],
   "source": [
    "def num_engineer(df_feature):\n",
    "    '''\n",
    "    input: cleaned df\n",
    "    output: df_num-aggregated numerical features with unique userIds\n",
    "    '''\n",
    "    # create view\n",
    "    df_feature.createOrReplaceTempView(\"featureeg\")\n",
    "    # aggregation\n",
    "    df_num=spark.sql('''\n",
    "                select userId, count(distinct artist) artnum, sum(length) length, count(song) songs, max(ts)-max(registration) lt,\n",
    "                        sum(case when status=\"404\" then 1\n",
    "                                else 0\n",
    "                                end) 404received\n",
    "                from featureeg\n",
    "                group by 1\n",
    "                ''')\n",
    "    return df_num"
   ]
  },
  {
   "cell_type": "code",
   "execution_count": 65,
   "metadata": {},
   "outputs": [],
   "source": [
    "df_num=num_engineer(df_feature)"
   ]
  },
  {
   "cell_type": "code",
   "execution_count": 66,
   "metadata": {},
   "outputs": [
    {
     "data": {
      "text/plain": [
       "Row(userId='100010', artnum=252, length=66940.89734999997, songs=275, lt=4807612000, 404received=0)"
      ]
     },
     "execution_count": 66,
     "metadata": {},
     "output_type": "execute_result"
    }
   ],
   "source": [
    "df_num.head()"
   ]
  },
  {
   "cell_type": "code",
   "execution_count": 67,
   "metadata": {},
   "outputs": [],
   "source": [
    "def pagecount(df_feature):\n",
    "    '''\n",
    "    input: cleaned df\n",
    "    output: df_page-aggregated numerical page counts with unique userIds\n",
    "    '''\n",
    "    # create view\n",
    "    df_feature.createOrReplaceTempView(\"featureeg\")\n",
    "    \n",
    "    # drop cancel and Cancellation Confirmation page\n",
    "    # convert to pandas\n",
    "    df_page=spark.sql('''\n",
    "                    select userId, page\n",
    "                    from featureeg\n",
    "                    where page not in (\"Cancel\",\"Cancellation Confirmation\")\n",
    "                    ''').toPandas()\n",
    "    # get dummies and aggregation\n",
    "    df_page=pd.get_dummies(data=df_page,columns=['page'])\n",
    "    df_page=df_page.groupby(['userId']).sum().reset_index()\n",
    "    # convert back to spark\n",
    "    df_page=spark.createDataFrame(df_page)\n",
    "    return df_page"
   ]
  },
  {
   "cell_type": "code",
   "execution_count": 68,
   "metadata": {},
   "outputs": [],
   "source": [
    "df_page=pagecount(df_feature)"
   ]
  },
  {
   "cell_type": "code",
   "execution_count": 69,
   "metadata": {
    "scrolled": true
   },
   "outputs": [
    {
     "data": {
      "text/plain": [
       "Row(userId='10', page_About=2.0, page_Add Friend=12.0, page_Add to Playlist=9.0, page_Downgrade=7.0, page_Error=0.0, page_Help=1.0, page_Home=30.0, page_Logout=11.0, page_NextSong=673.0, page_Roll Advert=1.0, page_Save Settings=1.0, page_Settings=7.0, page_Submit Downgrade=0.0, page_Submit Upgrade=0.0, page_Thumbs Down=4.0, page_Thumbs Up=37.0, page_Upgrade=0.0)"
      ]
     },
     "execution_count": 69,
     "metadata": {},
     "output_type": "execute_result"
    }
   ],
   "source": [
    "df_page.head()"
   ]
  },
  {
   "cell_type": "code",
   "execution_count": 70,
   "metadata": {},
   "outputs": [
    {
     "data": {
      "text/plain": [
       "Row(userId='100010', label=0, gender_M=0, location_AL=0, location_AR=0, location_AZ=0, location_CA=0, location_CO=0, location_CT=1, location_DC-VA-MD-WV=0, location_FL=0, location_GA=0, location_GA-AL=0, location_IA=0, location_IL=0, location_IL-IN-WI=0, location_IL-MO=0, location_IN=0, location_KY=0, location_KY-IN=0, location_LA=0, location_MA-NH=0, location_MD=0, location_MD-WV=0, location_MI=0, location_MN-WI=0, location_MO-IL=0, location_MO-KS=0, location_MS=0, location_MT=0, location_NC=0, location_NC-SC=0, location_NE-IA=0, location_NH=0, location_NJ=0, location_NV=0, location_NY=0, location_NY-NJ-PA=0, location_OH=0, location_OH-KY-IN=0, location_OK=0, location_OR=0, location_OR-WA=0, location_PA=0, location_PA-NJ=0, location_PA-NJ-DE-MD=0, location_RI-MA=0, location_SC=0, location_SC-NC=0, location_TN=0, location_TN-MS-AR=0, location_TN-VA=0, location_TX=0, location_UT=0, location_UT-ID=0, location_VA=0, location_VA-NC=0, location_WA=0, location_WI=0, location_WV=0, OS_ipad=0, OS_iphone=1, OS_macintosh=0, OS_windows=0, OS_x11=0, artnum=252, length=66940.89734999997, songs=275, lt=4807612000, 404received=0, page_About=1.0, page_Add Friend=4.0, page_Add to Playlist=7.0, page_Downgrade=0.0, page_Error=0.0, page_Help=2.0, page_Home=11.0, page_Logout=5.0, page_NextSong=275.0, page_Roll Advert=52.0, page_Save Settings=0.0, page_Settings=0.0, page_Submit Downgrade=0.0, page_Submit Upgrade=0.0, page_Thumbs Down=5.0, page_Thumbs Up=17.0, page_Upgrade=2.0)"
      ]
     },
     "execution_count": 70,
     "metadata": {},
     "output_type": "execute_result"
    }
   ],
   "source": [
    "# join together\n",
    "ml_df=df_feature.select('userId',col('Churn').alias('label')).dropDuplicates()\\\n",
    "        .join(df_cat,'userId')\\\n",
    "        .join(df_num,'userId')\\\n",
    "        .join(df_page,'userId')\n",
    "ml_df.head()"
   ]
  },
  {
   "cell_type": "markdown",
   "metadata": {},
   "source": [
    "###### vectors assemble and feature normalization\n",
    "Here we choose MinMaxscaler, as it will preserve the shape of the dataset (no distortion)."
   ]
  },
  {
   "cell_type": "code",
   "execution_count": 71,
   "metadata": {
    "scrolled": true
   },
   "outputs": [
    {
     "data": {
      "text/plain": [
       "Row(userId='100010', label=0, gender_M=0, location_AL=0, location_AR=0, location_AZ=0, location_CA=0, location_CO=0, location_CT=1, location_DC-VA-MD-WV=0, location_FL=0, location_GA=0, location_GA-AL=0, location_IA=0, location_IL=0, location_IL-IN-WI=0, location_IL-MO=0, location_IN=0, location_KY=0, location_KY-IN=0, location_LA=0, location_MA-NH=0, location_MD=0, location_MD-WV=0, location_MI=0, location_MN-WI=0, location_MO-IL=0, location_MO-KS=0, location_MS=0, location_MT=0, location_NC=0, location_NC-SC=0, location_NE-IA=0, location_NH=0, location_NJ=0, location_NV=0, location_NY=0, location_NY-NJ-PA=0, location_OH=0, location_OH-KY-IN=0, location_OK=0, location_OR=0, location_OR-WA=0, location_PA=0, location_PA-NJ=0, location_PA-NJ-DE-MD=0, location_RI-MA=0, location_SC=0, location_SC-NC=0, location_TN=0, location_TN-MS-AR=0, location_TN-VA=0, location_TX=0, location_UT=0, location_UT-ID=0, location_VA=0, location_VA-NC=0, location_WA=0, location_WI=0, location_WV=0, OS_ipad=0, OS_iphone=1, OS_macintosh=0, OS_windows=0, OS_x11=0, artnum=252, length=66940.89734999997, songs=275, lt=4807612000, 404received=0, page_About=1.0, page_Add Friend=4.0, page_Add to Playlist=7.0, page_Downgrade=0.0, page_Error=0.0, page_Help=2.0, page_Home=11.0, page_Logout=5.0, page_NextSong=275.0, page_Roll Advert=52.0, page_Save Settings=0.0, page_Settings=0.0, page_Submit Downgrade=0.0, page_Submit Upgrade=0.0, page_Thumbs Down=5.0, page_Thumbs Up=17.0, page_Upgrade=2.0, vector=SparseVector(85, {6: 1.0, 59: 1.0, 63: 252.0, 64: 66940.8973, 65: 275.0, 66: 4807612000.0, 68: 1.0, 69: 4.0, 70: 7.0, 73: 2.0, 74: 11.0, 75: 5.0, 76: 275.0, 77: 52.0, 82: 5.0, 83: 17.0, 84: 2.0}), features=SparseVector(85, {6: 1.0, 59: 1.0, 63: 0.0703, 64: 0.0333, 65: 0.034, 66: 0.2161, 68: 0.04, 69: 0.028, 70: 0.0292, 73: 0.0435, 74: 0.031, 75: 0.0403, 76: 0.034, 77: 0.4062, 82: 0.0667, 83: 0.0389, 84: 0.1333}))"
      ]
     },
     "execution_count": 71,
     "metadata": {},
     "output_type": "execute_result"
    }
   ],
   "source": [
    "assembler=VectorAssembler(inputCols=ml_df.columns[2:],outputCol=\"vector\")\n",
    "final_df=assembler.transform(ml_df)\n",
    "\n",
    "scaler=MinMaxScaler(inputCol='vector',outputCol='features')\n",
    "final_df=scaler.fit(final_df).transform(final_df)\n",
    "final_df.head()"
   ]
  },
  {
   "cell_type": "code",
   "execution_count": 72,
   "metadata": {
    "scrolled": false
   },
   "outputs": [
    {
     "name": "stdout",
     "output_type": "stream",
     "text": [
      "root\n",
      " |-- userId: string (nullable = true)\n",
      " |-- label: long (nullable = true)\n",
      " |-- gender_M: long (nullable = true)\n",
      " |-- location_AL: long (nullable = true)\n",
      " |-- location_AR: long (nullable = true)\n",
      " |-- location_AZ: long (nullable = true)\n",
      " |-- location_CA: long (nullable = true)\n",
      " |-- location_CO: long (nullable = true)\n",
      " |-- location_CT: long (nullable = true)\n",
      " |-- location_DC-VA-MD-WV: long (nullable = true)\n",
      " |-- location_FL: long (nullable = true)\n",
      " |-- location_GA: long (nullable = true)\n",
      " |-- location_GA-AL: long (nullable = true)\n",
      " |-- location_IA: long (nullable = true)\n",
      " |-- location_IL: long (nullable = true)\n",
      " |-- location_IL-IN-WI: long (nullable = true)\n",
      " |-- location_IL-MO: long (nullable = true)\n",
      " |-- location_IN: long (nullable = true)\n",
      " |-- location_KY: long (nullable = true)\n",
      " |-- location_KY-IN: long (nullable = true)\n",
      " |-- location_LA: long (nullable = true)\n",
      " |-- location_MA-NH: long (nullable = true)\n",
      " |-- location_MD: long (nullable = true)\n",
      " |-- location_MD-WV: long (nullable = true)\n",
      " |-- location_MI: long (nullable = true)\n",
      " |-- location_MN-WI: long (nullable = true)\n",
      " |-- location_MO-IL: long (nullable = true)\n",
      " |-- location_MO-KS: long (nullable = true)\n",
      " |-- location_MS: long (nullable = true)\n",
      " |-- location_MT: long (nullable = true)\n",
      " |-- location_NC: long (nullable = true)\n",
      " |-- location_NC-SC: long (nullable = true)\n",
      " |-- location_NE-IA: long (nullable = true)\n",
      " |-- location_NH: long (nullable = true)\n",
      " |-- location_NJ: long (nullable = true)\n",
      " |-- location_NV: long (nullable = true)\n",
      " |-- location_NY: long (nullable = true)\n",
      " |-- location_NY-NJ-PA: long (nullable = true)\n",
      " |-- location_OH: long (nullable = true)\n",
      " |-- location_OH-KY-IN: long (nullable = true)\n",
      " |-- location_OK: long (nullable = true)\n",
      " |-- location_OR: long (nullable = true)\n",
      " |-- location_OR-WA: long (nullable = true)\n",
      " |-- location_PA: long (nullable = true)\n",
      " |-- location_PA-NJ: long (nullable = true)\n",
      " |-- location_PA-NJ-DE-MD: long (nullable = true)\n",
      " |-- location_RI-MA: long (nullable = true)\n",
      " |-- location_SC: long (nullable = true)\n",
      " |-- location_SC-NC: long (nullable = true)\n",
      " |-- location_TN: long (nullable = true)\n",
      " |-- location_TN-MS-AR: long (nullable = true)\n",
      " |-- location_TN-VA: long (nullable = true)\n",
      " |-- location_TX: long (nullable = true)\n",
      " |-- location_UT: long (nullable = true)\n",
      " |-- location_UT-ID: long (nullable = true)\n",
      " |-- location_VA: long (nullable = true)\n",
      " |-- location_VA-NC: long (nullable = true)\n",
      " |-- location_WA: long (nullable = true)\n",
      " |-- location_WI: long (nullable = true)\n",
      " |-- location_WV: long (nullable = true)\n",
      " |-- OS_ipad: long (nullable = true)\n",
      " |-- OS_iphone: long (nullable = true)\n",
      " |-- OS_macintosh: long (nullable = true)\n",
      " |-- OS_windows: long (nullable = true)\n",
      " |-- OS_x11: long (nullable = true)\n",
      " |-- artnum: long (nullable = false)\n",
      " |-- length: double (nullable = true)\n",
      " |-- songs: long (nullable = false)\n",
      " |-- lt: long (nullable = true)\n",
      " |-- 404received: long (nullable = true)\n",
      " |-- page_About: double (nullable = true)\n",
      " |-- page_Add Friend: double (nullable = true)\n",
      " |-- page_Add to Playlist: double (nullable = true)\n",
      " |-- page_Downgrade: double (nullable = true)\n",
      " |-- page_Error: double (nullable = true)\n",
      " |-- page_Help: double (nullable = true)\n",
      " |-- page_Home: double (nullable = true)\n",
      " |-- page_Logout: double (nullable = true)\n",
      " |-- page_NextSong: double (nullable = true)\n",
      " |-- page_Roll Advert: double (nullable = true)\n",
      " |-- page_Save Settings: double (nullable = true)\n",
      " |-- page_Settings: double (nullable = true)\n",
      " |-- page_Submit Downgrade: double (nullable = true)\n",
      " |-- page_Submit Upgrade: double (nullable = true)\n",
      " |-- page_Thumbs Down: double (nullable = true)\n",
      " |-- page_Thumbs Up: double (nullable = true)\n",
      " |-- page_Upgrade: double (nullable = true)\n",
      " |-- vector: vector (nullable = true)\n",
      " |-- features: vector (nullable = true)\n",
      "\n"
     ]
    }
   ],
   "source": [
    "final_df.printSchema()"
   ]
  },
  {
   "cell_type": "markdown",
   "metadata": {},
   "source": [
    "> final_df components\n",
    "* 1 userId column\n",
    "* 1 label column\n",
    "* 83 feature columns\n",
    "\n",
    "# Modeling\n",
    "Split the full dataset into train, test, and validation sets. Test out several of the machine learning methods you learned. Evaluate the accuracy of the various models, tuning parameters as necessary. Determine your winning model based on test accuracy and report results on the validation set. Since the churned users are a fairly small subset, I suggest using F1 score as the metric to optimize.\n",
    "\n",
    "###### Complications \n",
    "During the first attempt all the algorithms got f1 score as 1 on test set, which is almost impossible for machine learning task. After investigation I found page `Cancel` and `Cancellation Confirmation` are kept in the data frame. Those two pages are signal of a user churning which is what we are tying to predict, hence I dropped these two columns."
   ]
  },
  {
   "cell_type": "code",
   "execution_count": 73,
   "metadata": {},
   "outputs": [],
   "source": [
    "# split train, validation, test set\n",
    "train,test=final_df.randomSplit([.8,.2],seed=42)\n",
    "sub_test, validation=train.randomSplit([.5,.5],seed=42)"
   ]
  },
  {
   "cell_type": "markdown",
   "metadata": {},
   "source": [
    "###### Initial model selection\n",
    "* Random Forest\n",
    "* GBT\n",
    "* LinearSVC"
   ]
  },
  {
   "cell_type": "code",
   "execution_count": 74,
   "metadata": {},
   "outputs": [],
   "source": [
    "def model_select(classifier):\n",
    "    '''\n",
    "    function to evaluate duration and f1 score of a given model\n",
    "    input: classifier-model classifier name\n",
    "    output:model-raw trained model\n",
    "    '''\n",
    "    start=time.time()\n",
    "    # evaluator f1 score\n",
    "    evaluator= MulticlassClassificationEvaluator()\n",
    "    \n",
    "    # instantiate classifier\n",
    "    cl=classifier()\n",
    "    model=cl.fit(sub_test)\n",
    "    pre=model.transform(validation)\n",
    "    f1=evaluator.evaluate(pre)\n",
    "    end=time.time()-start\n",
    "    print(\"Model {} F1 score {}. Duration :{}\".format(cl.__class__.__name__,f1,end))\n",
    "    return model"
   ]
  },
  {
   "cell_type": "code",
   "execution_count": 75,
   "metadata": {
    "scrolled": false
   },
   "outputs": [
    {
     "name": "stdout",
     "output_type": "stream",
     "text": [
      "Model RandomForestClassifier F1 score 0.6722927730316324. Duration :86.3000066280365\n",
      "Model GBTClassifier F1 score 0.7183098591549295. Duration :134.82401371002197\n",
      "Model LinearSVC F1 score 0.7162177307879105. Duration :284.3067271709442\n"
     ]
    }
   ],
   "source": [
    "# RandomForest\n",
    "rf=model_select(RandomForestClassifier)\n",
    "# GBTClassifier\n",
    "gbt=model_select(GBTClassifier)\n",
    "# Linear SVC\n",
    "svm=model_select(LinearSVC)"
   ]
  },
  {
   "cell_type": "markdown",
   "metadata": {},
   "source": [
    "> GBT has the highest F1 score, thus we choose GBT as base modle and fine tune it.\n",
    "###### Hyperparameter tune\n",
    "* maxDepth\n",
    "* maxIter"
   ]
  },
  {
   "cell_type": "code",
   "execution_count": 77,
   "metadata": {},
   "outputs": [],
   "source": [
    "# build GBT model\n",
    "gbt=GBTClassifier()\n",
    "\n",
    "# set up parameters\n",
    "param=ParamGridBuilder()\\\n",
    "        .addGrid(gbt.maxDepth,[5,10])\\\n",
    "        .addGrid(gbt.maxIter,[10,20])\\\n",
    "        .build()\n",
    "\n",
    "# set up crossvalidation \n",
    "crossval=CrossValidator(estimator=gbt,\n",
    "                       estimatorParamMaps=param,\n",
    "                       evaluator=MulticlassClassificationEvaluator(),\n",
    "                       numFolds=3)"
   ]
  },
  {
   "cell_type": "code",
   "execution_count": 78,
   "metadata": {},
   "outputs": [],
   "source": [
    "# train and predict\n",
    "start=time.time()\n",
    "model=crossval.fit(train)\n",
    "pre=model.transform(test)\n",
    "end=time.time()-start"
   ]
  },
  {
   "cell_type": "code",
   "execution_count": 79,
   "metadata": {},
   "outputs": [
    {
     "name": "stdout",
     "output_type": "stream",
     "text": [
      "GBT tuned model F1 score: 0.7441872494504073. Duration: 1329.6889090538025\n"
     ]
    }
   ],
   "source": [
    "# final f1 score\n",
    "evaluator=MulticlassClassificationEvaluator()\n",
    "print(\"GBT tuned model F1 score: {}. Duration: {}\".format(evaluator.evaluate(pre), end))"
   ]
  },
  {
   "cell_type": "code",
   "execution_count": 80,
   "metadata": {
    "scrolled": true
   },
   "outputs": [
    {
     "name": "stdout",
     "output_type": "stream",
     "text": [
      "Tunned model maxDepth: 5\n",
      "Tunned model maxIter: 10\n"
     ]
    }
   ],
   "source": [
    "# param info\n",
    "print(\"Tunned model maxDepth:\",model.bestModel._java_obj.getMaxDepth())\n",
    "print(\"Tunned model maxIter:\",model.bestModel._java_obj.getMaxIter())"
   ]
  },
  {
   "cell_type": "code",
   "execution_count": 81,
   "metadata": {
    "scrolled": true
   },
   "outputs": [],
   "source": [
    "# map feature importances to feature names inspired by\n",
    "# https://www.timlrx.com/2018/06/19/feature-selection-using-feature-importance-score-creating-a-pyspark-estimator/\n",
    "def ExtractFeatureImp(fimp,df=train,featuresCol=\"vector\"):\n",
    "    '''\n",
    "    A function to map column name to featureImportances\n",
    "    input:\n",
    "    fimp- model extracted featureImportances\n",
    "    df- dataframe to provide column schema\n",
    "    featuresCol- a column whose metadata contain feature names\n",
    "    output:\n",
    "    A dataframe with feature indexs, names, importances, sored desc\n",
    "    '''\n",
    "    li=[]\n",
    "    for i in df.schema[featuresCol].metadata[\"ml_attr\"][\"attrs\"]['numeric']:\n",
    "        li.append(i)\n",
    "    li_df=pd.DataFrame(li)\n",
    "    li_df['score']=li_df['idx'].apply(lambda x: fimp[x])\n",
    "    li_df=li_df.sort_values('score', ascending=False)\n",
    "    # running total\n",
    "    li_df['running_total']=np.cumsum(li_df['score'])\n",
    "    return li_df"
   ]
  },
  {
   "cell_type": "code",
   "execution_count": 82,
   "metadata": {
    "scrolled": false
   },
   "outputs": [
    {
     "data": {
      "image/png": "[encoded data removed]",
      "text/plain": [
       "<Figure size 1080x360 with 1 Axes>"
      ]
     },
     "metadata": {
      "needs_background": "light"
     },
     "output_type": "display_data"
    }
   ],
   "source": [
    "# plot top 10 important features\n",
    "fp=ExtractFeatureImp(model.bestModel.featureImportances)\n",
    "# plot running total\n",
    "sns.set_color_codes('pastel')\n",
    "sns.barplot(data=fp[:10],x='name',y='running_total',label='running_total',color='b')\n",
    "# plot individual score\n",
    "sns.set_color_codes('muted')\n",
    "sns.barplot(data=fp[:10],x='name',y='score',label='feature_importances',color='b')\n",
    "plt.legend(loc=0)\n",
    "plt.title('Weights for top 10 most predictive features')\n",
    "plt.xticks(rotation=45);"
   ]
  },
  {
   "cell_type": "code",
   "execution_count": 83,
   "metadata": {
    "scrolled": false
   },
   "outputs": [
    {
     "data": {
      "text/html": [
       "<div>\n",
       "<style scoped>\n",
       "    .dataframe tbody tr th:only-of-type {\n",
       "        vertical-align: middle;\n",
       "    }\n",
       "\n",
       "    .dataframe tbody tr th {\n",
       "        vertical-align: top;\n",
       "    }\n",
       "\n",
       "    .dataframe thead th {\n",
       "        text-align: right;\n",
       "    }\n",
       "</style>\n",
       "<table border=\"1\" class=\"dataframe\">\n",
       "  <thead>\n",
       "    <tr style=\"text-align: right;\">\n",
       "      <th></th>\n",
       "      <th>idx</th>\n",
       "      <th>name</th>\n",
       "      <th>score</th>\n",
       "      <th>running_total</th>\n",
       "    </tr>\n",
       "  </thead>\n",
       "  <tbody>\n",
       "    <tr>\n",
       "      <th>66</th>\n",
       "      <td>66</td>\n",
       "      <td>lt</td>\n",
       "      <td>0.152625</td>\n",
       "      <td>0.152625</td>\n",
       "    </tr>\n",
       "    <tr>\n",
       "      <th>82</th>\n",
       "      <td>82</td>\n",
       "      <td>page_Thumbs Down</td>\n",
       "      <td>0.117122</td>\n",
       "      <td>0.269746</td>\n",
       "    </tr>\n",
       "    <tr>\n",
       "      <th>69</th>\n",
       "      <td>69</td>\n",
       "      <td>page_Add Friend</td>\n",
       "      <td>0.079867</td>\n",
       "      <td>0.349613</td>\n",
       "    </tr>\n",
       "    <tr>\n",
       "      <th>1</th>\n",
       "      <td>1</td>\n",
       "      <td>location_AL</td>\n",
       "      <td>0.063086</td>\n",
       "      <td>0.412699</td>\n",
       "    </tr>\n",
       "    <tr>\n",
       "      <th>79</th>\n",
       "      <td>79</td>\n",
       "      <td>page_Settings</td>\n",
       "      <td>0.052094</td>\n",
       "      <td>0.464793</td>\n",
       "    </tr>\n",
       "    <tr>\n",
       "      <th>18</th>\n",
       "      <td>18</td>\n",
       "      <td>location_LA</td>\n",
       "      <td>0.050963</td>\n",
       "      <td>0.515756</td>\n",
       "    </tr>\n",
       "    <tr>\n",
       "      <th>80</th>\n",
       "      <td>80</td>\n",
       "      <td>page_Submit Downgrade</td>\n",
       "      <td>0.044223</td>\n",
       "      <td>0.559979</td>\n",
       "    </tr>\n",
       "    <tr>\n",
       "      <th>68</th>\n",
       "      <td>68</td>\n",
       "      <td>page_About</td>\n",
       "      <td>0.044016</td>\n",
       "      <td>0.603995</td>\n",
       "    </tr>\n",
       "    <tr>\n",
       "      <th>74</th>\n",
       "      <td>74</td>\n",
       "      <td>page_Home</td>\n",
       "      <td>0.039029</td>\n",
       "      <td>0.643024</td>\n",
       "    </tr>\n",
       "    <tr>\n",
       "      <th>23</th>\n",
       "      <td>23</td>\n",
       "      <td>location_MN-WI</td>\n",
       "      <td>0.036954</td>\n",
       "      <td>0.679978</td>\n",
       "    </tr>\n",
       "    <tr>\n",
       "      <th>77</th>\n",
       "      <td>77</td>\n",
       "      <td>page_Roll Advert</td>\n",
       "      <td>0.027362</td>\n",
       "      <td>0.707341</td>\n",
       "    </tr>\n",
       "    <tr>\n",
       "      <th>70</th>\n",
       "      <td>70</td>\n",
       "      <td>page_Add to Playlist</td>\n",
       "      <td>0.027239</td>\n",
       "      <td>0.734580</td>\n",
       "    </tr>\n",
       "    <tr>\n",
       "      <th>55</th>\n",
       "      <td>55</td>\n",
       "      <td>location_WA</td>\n",
       "      <td>0.025297</td>\n",
       "      <td>0.759877</td>\n",
       "    </tr>\n",
       "    <tr>\n",
       "      <th>84</th>\n",
       "      <td>84</td>\n",
       "      <td>page_Upgrade</td>\n",
       "      <td>0.025294</td>\n",
       "      <td>0.785171</td>\n",
       "    </tr>\n",
       "    <tr>\n",
       "      <th>35</th>\n",
       "      <td>35</td>\n",
       "      <td>location_NY-NJ-PA</td>\n",
       "      <td>0.024040</td>\n",
       "      <td>0.809211</td>\n",
       "    </tr>\n",
       "    <tr>\n",
       "      <th>60</th>\n",
       "      <td>60</td>\n",
       "      <td>OS_macintosh</td>\n",
       "      <td>0.022755</td>\n",
       "      <td>0.831966</td>\n",
       "    </tr>\n",
       "    <tr>\n",
       "      <th>5</th>\n",
       "      <td>5</td>\n",
       "      <td>location_CO</td>\n",
       "      <td>0.020656</td>\n",
       "      <td>0.852622</td>\n",
       "    </tr>\n",
       "    <tr>\n",
       "      <th>83</th>\n",
       "      <td>83</td>\n",
       "      <td>page_Thumbs Up</td>\n",
       "      <td>0.019481</td>\n",
       "      <td>0.872103</td>\n",
       "    </tr>\n",
       "    <tr>\n",
       "      <th>81</th>\n",
       "      <td>81</td>\n",
       "      <td>page_Submit Upgrade</td>\n",
       "      <td>0.018110</td>\n",
       "      <td>0.890214</td>\n",
       "    </tr>\n",
       "    <tr>\n",
       "      <th>71</th>\n",
       "      <td>71</td>\n",
       "      <td>page_Downgrade</td>\n",
       "      <td>0.017791</td>\n",
       "      <td>0.908005</td>\n",
       "    </tr>\n",
       "    <tr>\n",
       "      <th>67</th>\n",
       "      <td>67</td>\n",
       "      <td>404received</td>\n",
       "      <td>0.012715</td>\n",
       "      <td>0.920720</td>\n",
       "    </tr>\n",
       "    <tr>\n",
       "      <th>63</th>\n",
       "      <td>63</td>\n",
       "      <td>artnum</td>\n",
       "      <td>0.012136</td>\n",
       "      <td>0.932856</td>\n",
       "    </tr>\n",
       "    <tr>\n",
       "      <th>22</th>\n",
       "      <td>22</td>\n",
       "      <td>location_MI</td>\n",
       "      <td>0.009667</td>\n",
       "      <td>0.942522</td>\n",
       "    </tr>\n",
       "    <tr>\n",
       "      <th>8</th>\n",
       "      <td>8</td>\n",
       "      <td>location_FL</td>\n",
       "      <td>0.007706</td>\n",
       "      <td>0.950229</td>\n",
       "    </tr>\n",
       "    <tr>\n",
       "      <th>59</th>\n",
       "      <td>59</td>\n",
       "      <td>OS_iphone</td>\n",
       "      <td>0.006608</td>\n",
       "      <td>0.956837</td>\n",
       "    </tr>\n",
       "    <tr>\n",
       "      <th>2</th>\n",
       "      <td>2</td>\n",
       "      <td>location_AR</td>\n",
       "      <td>0.006476</td>\n",
       "      <td>0.963313</td>\n",
       "    </tr>\n",
       "    <tr>\n",
       "      <th>52</th>\n",
       "      <td>52</td>\n",
       "      <td>location_UT-ID</td>\n",
       "      <td>0.005683</td>\n",
       "      <td>0.968996</td>\n",
       "    </tr>\n",
       "    <tr>\n",
       "      <th>20</th>\n",
       "      <td>20</td>\n",
       "      <td>location_MD</td>\n",
       "      <td>0.005457</td>\n",
       "      <td>0.974453</td>\n",
       "    </tr>\n",
       "    <tr>\n",
       "      <th>64</th>\n",
       "      <td>64</td>\n",
       "      <td>length</td>\n",
       "      <td>0.005246</td>\n",
       "      <td>0.979699</td>\n",
       "    </tr>\n",
       "    <tr>\n",
       "      <th>54</th>\n",
       "      <td>54</td>\n",
       "      <td>location_VA-NC</td>\n",
       "      <td>0.005064</td>\n",
       "      <td>0.984763</td>\n",
       "    </tr>\n",
       "  </tbody>\n",
       "</table>\n",
       "</div>"
      ],
      "text/plain": [
       "    idx                   name     score  running_total\n",
       "66   66                     lt  0.152625       0.152625\n",
       "82   82       page_Thumbs Down  0.117122       0.269746\n",
       "69   69        page_Add Friend  0.079867       0.349613\n",
       "1     1            location_AL  0.063086       0.412699\n",
       "79   79          page_Settings  0.052094       0.464793\n",
       "18   18            location_LA  0.050963       0.515756\n",
       "80   80  page_Submit Downgrade  0.044223       0.559979\n",
       "68   68             page_About  0.044016       0.603995\n",
       "74   74              page_Home  0.039029       0.643024\n",
       "23   23         location_MN-WI  0.036954       0.679978\n",
       "77   77       page_Roll Advert  0.027362       0.707341\n",
       "70   70   page_Add to Playlist  0.027239       0.734580\n",
       "55   55            location_WA  0.025297       0.759877\n",
       "84   84           page_Upgrade  0.025294       0.785171\n",
       "35   35      location_NY-NJ-PA  0.024040       0.809211\n",
       "60   60           OS_macintosh  0.022755       0.831966\n",
       "5     5            location_CO  0.020656       0.852622\n",
       "83   83         page_Thumbs Up  0.019481       0.872103\n",
       "81   81    page_Submit Upgrade  0.018110       0.890214\n",
       "71   71         page_Downgrade  0.017791       0.908005\n",
       "67   67            404received  0.012715       0.920720\n",
       "63   63                 artnum  0.012136       0.932856\n",
       "22   22            location_MI  0.009667       0.942522\n",
       "8     8            location_FL  0.007706       0.950229\n",
       "59   59              OS_iphone  0.006608       0.956837\n",
       "2     2            location_AR  0.006476       0.963313\n",
       "52   52         location_UT-ID  0.005683       0.968996\n",
       "20   20            location_MD  0.005457       0.974453\n",
       "64   64                 length  0.005246       0.979699\n",
       "54   54         location_VA-NC  0.005064       0.984763"
      ]
     },
     "execution_count": 83,
     "metadata": {},
     "output_type": "execute_result"
    }
   ],
   "source": [
    "# top 30 features\n",
    "fp[:30]"
   ]
  },
  {
   "cell_type": "markdown",
   "metadata": {},
   "source": [
    "###### Statistical property of features"
   ]
  },
  {
   "cell_type": "code",
   "execution_count": 96,
   "metadata": {},
   "outputs": [],
   "source": [
    "final_df.createOrReplaceTempView('summary')\n",
    "featuresum=spark.sql('''\n",
    "select label churn, avg(lt) avg_life_time, avg(`page_Thumbs Down`) avg_dislike, avg(`page_Add Friend`) avg_friends, \n",
    "            avg(location_AL) avg_AL_counts, avg(page_Settings) avg_setting, avg(location_LA) avg_LA_counts,\n",
    "            avg(`page_Submit Downgrade`) avg_downgrade, avg(`page_About`) avg_About_page, \n",
    "            avg(page_Home) avg_Home_page, avg(`location_MN-WI`) avg_MW_WI_count\n",
    "from summary\n",
    "group by 1''').toPandas()"
   ]
  },
  {
   "cell_type": "code",
   "execution_count": 97,
   "metadata": {
    "scrolled": true
   },
   "outputs": [
    {
     "data": {
      "text/html": [
       "<div>\n",
       "<style scoped>\n",
       "    .dataframe tbody tr th:only-of-type {\n",
       "        vertical-align: middle;\n",
       "    }\n",
       "\n",
       "    .dataframe tbody tr th {\n",
       "        vertical-align: top;\n",
       "    }\n",
       "\n",
       "    .dataframe thead th {\n",
       "        text-align: right;\n",
       "    }\n",
       "</style>\n",
       "<table border=\"1\" class=\"dataframe\">\n",
       "  <thead>\n",
       "    <tr style=\"text-align: right;\">\n",
       "      <th></th>\n",
       "      <th>churn</th>\n",
       "      <th>avg_life_time</th>\n",
       "      <th>avg_dislike</th>\n",
       "      <th>avg_friends</th>\n",
       "      <th>avg_AL_counts</th>\n",
       "      <th>avg_setting</th>\n",
       "      <th>avg_LA_counts</th>\n",
       "      <th>avg_downgrade</th>\n",
       "      <th>avg_About_page</th>\n",
       "      <th>avg_Home_page</th>\n",
       "      <th>avg_MW_WI_count</th>\n",
       "    </tr>\n",
       "  </thead>\n",
       "  <tbody>\n",
       "    <tr>\n",
       "      <th>0</th>\n",
       "      <td>0</td>\n",
       "      <td>7.484022e+09</td>\n",
       "      <td>11.849711</td>\n",
       "      <td>21.046243</td>\n",
       "      <td>0.011561</td>\n",
       "      <td>7.190751</td>\n",
       "      <td>0.005780</td>\n",
       "      <td>0.312139</td>\n",
       "      <td>2.537572</td>\n",
       "      <td>48.612717</td>\n",
       "      <td>0.017341</td>\n",
       "    </tr>\n",
       "    <tr>\n",
       "      <th>1</th>\n",
       "      <td>1</td>\n",
       "      <td>4.951238e+09</td>\n",
       "      <td>9.538462</td>\n",
       "      <td>12.230769</td>\n",
       "      <td>0.038462</td>\n",
       "      <td>5.192308</td>\n",
       "      <td>0.019231</td>\n",
       "      <td>0.173077</td>\n",
       "      <td>1.076923</td>\n",
       "      <td>32.153846</td>\n",
       "      <td>0.000000</td>\n",
       "    </tr>\n",
       "  </tbody>\n",
       "</table>\n",
       "</div>"
      ],
      "text/plain": [
       "   churn  avg_life_time  avg_dislike  avg_friends  avg_AL_counts  avg_setting  \\\n",
       "0      0   7.484022e+09    11.849711    21.046243       0.011561     7.190751   \n",
       "1      1   4.951238e+09     9.538462    12.230769       0.038462     5.192308   \n",
       "\n",
       "   avg_LA_counts  avg_downgrade  avg_About_page  avg_Home_page  \\\n",
       "0       0.005780       0.312139        2.537572      48.612717   \n",
       "1       0.019231       0.173077        1.076923      32.153846   \n",
       "\n",
       "   avg_MW_WI_count  \n",
       "0         0.017341  \n",
       "1         0.000000  "
      ]
     },
     "execution_count": 97,
     "metadata": {},
     "output_type": "execute_result"
    }
   ],
   "source": [
    "featuresum"
   ]
  },
  {
   "cell_type": "code",
   "execution_count": 98,
   "metadata": {},
   "outputs": [],
   "source": [
    "# reformat df for plotting purpose\n",
    "fs_df=featuresum.groupby(['churn'])[featuresum.columns[1:]].max().unstack().reset_index()\n",
    "fs_df.rename(columns={'level_0':'features',0:'values'},inplace=True)"
   ]
  },
  {
   "cell_type": "code",
   "execution_count": 201,
   "metadata": {
    "scrolled": false
   },
   "outputs": [],
   "source": [
    "#fs_df"
   ]
  },
  {
   "cell_type": "code",
   "execution_count": 100,
   "metadata": {
    "scrolled": false
   },
   "outputs": [
    {
     "data": {
      "image/png": "[encoded data removed]",
      "text/plain": [
       "<Figure size 1080x360 with 1 Axes>"
      ]
     },
     "metadata": {
      "needs_background": "light"
     },
     "output_type": "display_data"
    }
   ],
   "source": [
    "sns.barplot(data=fs_df,y='features',x=\"values\",hue='churn')\n",
    "plt.xscale('log')\n",
    "plt.title('Top 10 important features avg comparison');"
   ]
  },
  {
   "cell_type": "markdown",
   "metadata": {},
   "source": [
    "###### Dimension reduction\n",
    "The original dataframe `final_df` has 83 features, we can see from the  `Weights for top 10 most predictive features` plot that 10 features already carry well over 60% of weights. Futhermore, `fp` dataframe shows 30 features carry over 98% of weights. \n",
    "\n",
    "Reducing dimension to top 30 features will be cheaper in terms of time consume and computing power while model still remains promising output."
   ]
  },
  {
   "cell_type": "code",
   "execution_count": 174,
   "metadata": {},
   "outputs": [],
   "source": [
    "def featurereduction(num=30):\n",
    "    '''\n",
    "    function to compare time consume and f1 socre between full feature model and reduced feature model.\n",
    "    features are sorted in descending order by feature importance\n",
    "    input: num- number of feautres to keep\n",
    "    output: a comparative dataframe'''\n",
    "    # set up df comlumns\n",
    "    featurenum=[82,num]\n",
    "    f1s=[]\n",
    "    duration=[]\n",
    "\n",
    "    # set up model with best estimator\n",
    "    gbt_best=GBTClassifier(maxDepth=5,maxIter=10)\n",
    "    # set up evaluator\n",
    "    evaluator=MulticlassClassificationEvaluator()\n",
    "    \n",
    "    # full dataset 82 features\n",
    "    time0=time.time()\n",
    "    full_model=gbt_best.fit(train)\n",
    "    pre_full=full_model.transform(test)\n",
    "    # get f1 and time\n",
    "    endtime=time.time()-time0\n",
    "    f1_tuned=evaluator.evaluate(pre_full)\n",
    "    f1s.append(f1_tuned)\n",
    "    duration.append(endtime)\n",
    "    \n",
    "    # reduce feature data set\n",
    "    # re assemb and scale\n",
    "    reduce_assembler=VectorAssembler(inputCols=[ml_df.columns[2:][i] for i in fp['idx'][:num].values],outputCol=\"vector\")\n",
    "    reduce_df=reduce_assembler.transform(ml_df)\n",
    "    reduce_scaler=MinMaxScaler(inputCol='vector',outputCol='features')\n",
    "    reduce_df=reduce_scaler.fit(reduce_df).transform(reduce_df)\n",
    "\n",
    "    # resplit data\n",
    "    reduce_train,reduce_test=reduce_df.randomSplit([.8,.2],seed=42)\n",
    "    gbt_best=GBTClassifier(maxDepth=5,maxIter=10)\n",
    "    time0=time.time()\n",
    "    # Train on the \"best\" model found from grid search earlier\n",
    "    reduce_model=gbt_best.fit(reduce_train)\n",
    "    # Make new predictions\n",
    "    reduced_predictions=reduce_model.transform(reduce_test)\n",
    "    # duration\n",
    "    reduc_time=time.time()-time0\n",
    "    # evaluation\n",
    "    f1_reduce=evaluator.evaluate(reduced_predictions)\n",
    "    f1s.append(f1_reduce)\n",
    "    duration.append(reduc_time)\n",
    "    \n",
    "    # make df\n",
    "    dfdict={'feature_num':featurenum,\n",
    "           'f1_score':f1s,\n",
    "           'duration':duration}\n",
    "    return pd.DataFrame(dfdict)"
   ]
  },
  {
   "cell_type": "code",
   "execution_count": 175,
   "metadata": {
    "scrolled": true
   },
   "outputs": [
    {
     "data": {
      "text/html": [
       "<div>\n",
       "<style scoped>\n",
       "    .dataframe tbody tr th:only-of-type {\n",
       "        vertical-align: middle;\n",
       "    }\n",
       "\n",
       "    .dataframe tbody tr th {\n",
       "        vertical-align: top;\n",
       "    }\n",
       "\n",
       "    .dataframe thead th {\n",
       "        text-align: right;\n",
       "    }\n",
       "</style>\n",
       "<table border=\"1\" class=\"dataframe\">\n",
       "  <thead>\n",
       "    <tr style=\"text-align: right;\">\n",
       "      <th></th>\n",
       "      <th>feature_num</th>\n",
       "      <th>f1_score</th>\n",
       "      <th>duration</th>\n",
       "    </tr>\n",
       "  </thead>\n",
       "  <tbody>\n",
       "    <tr>\n",
       "      <th>0</th>\n",
       "      <td>82</td>\n",
       "      <td>0.744187</td>\n",
       "      <td>78.416440</td>\n",
       "    </tr>\n",
       "    <tr>\n",
       "      <th>1</th>\n",
       "      <td>30</td>\n",
       "      <td>0.767482</td>\n",
       "      <td>68.693063</td>\n",
       "    </tr>\n",
       "  </tbody>\n",
       "</table>\n",
       "</div>"
      ],
      "text/plain": [
       "   feature_num  f1_score   duration\n",
       "0           82  0.744187  78.416440\n",
       "1           30  0.767482  68.693063"
      ]
     },
     "execution_count": 175,
     "metadata": {},
     "output_type": "execute_result"
    }
   ],
   "source": [
    "com=featurereduction()\n",
    "com"
   ]
  },
  {
   "cell_type": "code",
   "execution_count": 187,
   "metadata": {},
   "outputs": [],
   "source": [
    "f1=100*((com['f1_score'][1]-com['f1_score'][0])/com['f1_score'][0])\n",
    "time=100*((com['duration'][0]-com['duration'][1])/com['duration'][0])"
   ]
  },
  {
   "cell_type": "code",
   "execution_count": 190,
   "metadata": {
    "scrolled": true
   },
   "outputs": [
    {
     "name": "stdout",
     "output_type": "stream",
     "text": [
      "F1 increase 3.13%\n",
      "Time reduce 12.40%\n"
     ]
    }
   ],
   "source": [
    "print(\"F1 increase {:.2f}%\".format(f1))\n",
    "print(\"Time reduce {:.2f}%\".format(time))"
   ]
  },
  {
   "cell_type": "markdown",
   "metadata": {},
   "source": [
    "# Final Steps\n",
    "###### Reflection\n",
    "\n",
    "Since the churned users are a fairly small subset, the data is imbalanced, using F1 score as the metric is the fair call.\n",
    "\n",
    "A quick summary of our initial models:\n",
    "* Random Forest F1 score 0.6410174880763115.\n",
    "* GBT F1 score 0.7456568331672422.\n",
    "* Linear SVC F1 score 0.625548726953468.\n",
    "\n",
    "Because GBT outperformed other two model, I choose it as the base model. After tuning parameters the best model reached over 0.74 as f1 score. Parameters specification:\n",
    "* maxDepth: 5\n",
    "* maxIter: 10\n",
    "\n",
    "I extracted the feature importance from the tuned model and plotted the top 10 most important features. We can see the most important feature carrys over 15% weights is `customer lifetime`.\n",
    "$$customer\\ lifetime=max(ts)- registration$$\n",
    "\n",
    "This is a very import metric as it is part of many KIP formulas. (e.g. LTV, ARPU, Churn rate). Moving on with the plot, other features indicates page landed or locations. Total accumulated weight of 10 features is well over 60%.\n",
    "For a better understatement of these 10 features we will take a look at `Top 10 important features avg comparison` plot. We can clearly see some behavioral characteristics.\n",
    "\n",
    "Users who stayed tend to have higher average ratios on app interactive features. E.g. long customer life time, higher page landing ratios including downgrade pages. They generally spend more time to play musics, setting up or customize their accounts.\n",
    "\n",
    "On the other hand, users who churned have higher ratios on geographic features. This might indicate our user is geographic biased. We could consider run promotions and other marketing strategies to increase customer retention.\n",
    "\n",
    "For the last part, I extracted top 30 features from feature importance, train two models both based on the same best parameters we found through tuning process, but one model with full data set while another model with only 30 features. Comparing both time consumed as well as f1 scores. \n",
    "\n",
    "As we may have expected, feature reduced model take less time to train and predict, it decreased time 12.4% than full feature model. Surprisingly, feature reduced model also increase f1 score by a small amount of 3.13%. This is a classical example of bias-variance tradeoff. More feature yield a better performance on training set, as it generalizing worse on the test set. In other words the full feature model might suffer from overfitting.\n",
    "\n",
    "###### Improvement\n",
    "One factor we overlooked is data set imbalance. That is: amount of churned and amount of stayed is highly different. Detailed statistics shown below."
   ]
  },
  {
   "cell_type": "code",
   "execution_count": 192,
   "metadata": {
    "scrolled": false
   },
   "outputs": [
    {
     "name": "stdout",
     "output_type": "stream",
     "text": [
      "+-----+-----------+\n",
      "|Churn|user_amount|\n",
      "+-----+-----------+\n",
      "|    0|        173|\n",
      "|    1|         52|\n",
      "+-----+-----------+\n",
      "\n"
     ]
    }
   ],
   "source": [
    "final_df.createOrReplaceTempView(\"ml\")\n",
    "spark.sql('''\n",
    "select label Churn, count(distinct userId) user_amount \n",
    "from ml\n",
    "group by 1''').show()"
   ]
  },
  {
   "cell_type": "markdown",
   "metadata": {},
   "source": [
    "Churn stayed ratio is roughly 1:3.3. This could output over optimistic accuracy score and poor f1 score because algorithms optimize accuracy by default. In this case we might need to consider resample techniques to correct imbalance (e.g. oversample minority, undersample majority, SMOTE...)\n",
    "\n",
    "Another straightforward way to improve model performance is to simply add more hyper parameters options during the grid search step. The trad-off though is dramatically increased time consumption as well as computing power need.\n",
    "\n",
    "Finally, referring back to when we defined churns, we considered a user churn only when they cancel their account. In real life scenario we would also take downgrade action into count. When a user downgrade their account from paid user to free user means the user is not profitable anymore, this is another way of churn. However, this kind of churn leads to a more complex case when a user upgrade their account back to paid user again later. Further study is needed to address this problem."
   ]
  }
 ],
 "metadata": {
  "kernelspec": {
   "display_name": "Python 3",
   "language": "python",
   "name": "python3"
  },
  "language_info": {
   "codemirror_mode": {
    "name": "ipython",
    "version": 3
   },
   "file_extension": ".py",
   "mimetype": "text/x-python",
   "name": "python",
   "nbconvert_exporter": "python",
   "pygments_lexer": "ipython3",
   "version": "3.7.7"
  }
 },
 "nbformat": 4,
 "nbformat_minor": 2
}
